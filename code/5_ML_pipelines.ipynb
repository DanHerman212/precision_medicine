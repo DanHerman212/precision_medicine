{
 "cells": [
  {
   "cell_type": "code",
   "execution_count": 2,
   "metadata": {},
   "outputs": [
    {
     "data": {
      "text/plain": [
       "(1321, 61)"
      ]
     },
     "execution_count": 2,
     "metadata": {},
     "output_type": "execute_result"
    }
   ],
   "source": [
    "import pandas as pd\n",
    "import numpy as np\n",
    "import matplotlib.pyplot as plt\n",
    "import seaborn as sns\n",
    "import warnings\n",
    "warnings.filterwarnings('ignore')\n",
    "\n",
    "# load the data\n",
    "data = pd.read_csv('../data/benchmark_features.csv')\n",
    "\n",
    "data.shape"
   ]
  },
  {
   "cell_type": "code",
   "execution_count": 3,
   "metadata": {},
   "outputs": [],
   "source": [
    "from sklearn.compose import ColumnTransformer\n",
    "from sklearn.preprocessing import OneHotEncoder, StandardScaler\n",
    "from sklearn.linear_model import LogisticRegression\n",
    "from sklearn.ensemble import RandomForestClassifier\n",
    "import xgboost as xgb\n",
    "from sklearn.pipeline import Pipeline\n",
    "from sklearn.model_selection import train_test_split, GridSearchCV, cross_val_score\n",
    "import matplotlib.pyplot as plt\n",
    "from sklearn.metrics import accuracy_score, log_loss\n",
    "\n",
    "# assign X and y\n",
    "X, y = data.drop('dropout', axis=1), data['dropout']"
   ]
  },
  {
   "cell_type": "markdown",
   "metadata": {},
   "source": [
    "## Assign columns to dtype for pipelines"
   ]
  },
  {
   "cell_type": "code",
   "execution_count": 4,
   "metadata": {},
   "outputs": [],
   "source": [
    "# start with int and float\n",
    "int_columns = [col for col in X.columns if X[col].dtype == 'int64']\n",
    "float_columns = [col for col in X.columns if X[col].dtype == 'float64']\n",
    "\n",
    "# Combine both lists if you need columns of both types\n",
    "numeric_columns = int_columns + float_columns\n",
    "\n",
    "# get categorical columns\n",
    "categorical_columns = [col for col in X.columns if X[col].dtype == 'object']"
   ]
  },
  {
   "cell_type": "markdown",
   "metadata": {},
   "source": [
    "### Using C-Index as calssification metric"
   ]
  },
  {
   "cell_type": "code",
   "execution_count": 5,
   "metadata": {},
   "outputs": [
    {
     "name": "stdout",
     "output_type": "stream",
     "text": [
      "{'LogisticRegression': {'cindex': 0.7262396694214877, 'loss': 0.5319344782648302}, 'RandomForest': {'cindex': 0.8718721303948577, 'loss': 0.4187980800392147}, 'XGBoost': {'cindex': 0.8849288337924701, 'loss': 0.3463123290372171}}\n"
     ]
    }
   ],
   "source": [
    "from sklearn.compose import ColumnTransformer\n",
    "from sklearn.pipeline import Pipeline\n",
    "from sklearn.preprocessing import StandardScaler, OneHotEncoder\n",
    "from sklearn.linear_model import LogisticRegression\n",
    "from sklearn.ensemble import RandomForestClassifier\n",
    "import xgboost as xgb\n",
    "from sklearn.model_selection import train_test_split, GridSearchCV\n",
    "from sklearn.metrics import make_scorer\n",
    "import helper  # Assuming helper.cindex() is defined in helper module\n",
    "\n",
    "# Define the custom scoring function\n",
    "def cindex_scorer(y_true, y_pred):\n",
    "    return helper.cindex(y_true, y_pred)\n",
    "\n",
    "# Create a scorer object\n",
    "cindex = make_scorer(cindex_scorer, greater_is_better=True)\n",
    "\n",
    "# Instantiate the ColumnTransformer\n",
    "preprocessor = ColumnTransformer(\n",
    "    transformers=[\n",
    "        ('num', StandardScaler(), numeric_columns),\n",
    "        ('cat', OneHotEncoder(), categorical_columns)\n",
    "    ])\n",
    "\n",
    "# Define the classifiers\n",
    "classifiers = {\n",
    "    'LogisticRegression': LogisticRegression(),\n",
    "    'RandomForest': RandomForestClassifier(),\n",
    "    'XGBoost': xgb.XGBClassifier()\n",
    "}\n",
    "\n",
    "# Define pipelines for each classifier\n",
    "pipelines = {\n",
    "    name: Pipeline(steps=[('preprocessor', preprocessor),\n",
    "                          ('classifier', classifier)])\n",
    "    for name, classifier in classifiers.items()\n",
    "}\n",
    "\n",
    "# Define parameter grids for each classifier\n",
    "param_grids = {\n",
    "    'LogisticRegression': {'classifier__C': [0.1, 1, 10]},\n",
    "    'RandomForest': {'classifier__n_estimators': [10, 50, 100], \n",
    "                     'classifier__max_depth': [3, 5, 10]},\n",
    "    'XGBoost': {'classifier__learning_rate': [0.01, 0.1, 0.3],\n",
    "                'classifier__n_estimators': [200, 300, 400]}\n",
    "}\n",
    "\n",
    "# Split the data\n",
    "X_train, X_test, y_train, y_test = train_test_split(X, y, test_size=0.2, random_state=42)\n",
    "\n",
    "# Initialize results storage\n",
    "results = {}\n",
    "\n",
    "# Run GridSearchCV for each pipeline\n",
    "for name, pipeline in pipelines.items():\n",
    "    grid_search = GridSearchCV(pipeline, param_grids[name], cv=5, scoring=cindex)\n",
    "    grid_search.fit(X_train, y_train)\n",
    "    best_model = grid_search.best_estimator_\n",
    "    y_pred = best_model.predict(X_test)\n",
    "    accuracy = helper.cindex(y_test, y_pred)\n",
    "    loss = log_loss(y_test, best_model.predict_proba(X_test))\n",
    "    results[name] = {'cindex': accuracy, 'loss': loss}\n",
    "\n",
    "print(results)"
   ]
  },
  {
   "cell_type": "code",
   "execution_count": 7,
   "metadata": {},
   "outputs": [
    {
     "data": {
      "image/png": "[encoded data removed]",
      "text/plain": [
       "<Figure size 1000x500 with 2 Axes>"
      ]
     },
     "metadata": {},
     "output_type": "display_data"
    }
   ],
   "source": [
    "# plot results from results dict\n",
    "results_df = pd.DataFrame(results).T\n",
    "\n",
    "fig, ax = plt.subplots(1, 2, figsize=(10, 5))\n",
    "results_df['cindex'].plot(kind='barh', ax=ax[0], title='cindex', xlim=(0, 1))\n",
    "results_df['loss'].plot(kind='barh', ax=ax[1], title='log loss', xlim=(0, 1))\n",
    "plt.tight_layout()\n",
    "plt.show()\n"
   ]
  },
  {
   "cell_type": "markdown",
   "metadata": {},
   "source": [
    "### Using AUC as classification metric"
   ]
  },
  {
   "cell_type": "code",
   "execution_count": 5,
   "metadata": {},
   "outputs": [],
   "source": [
    "\n",
    "# Instantiate the ColumnTransformer\n",
    "preprocessor = ColumnTransformer(\n",
    "\ttransformers=[\n",
    "\t\t('num', StandardScaler(), numeric_columns),\n",
    "\t\t('cat', OneHotEncoder(), categorical_columns)\n",
    "\t])\n",
    "\n",
    "# Define the classifiers\n",
    "classifiers = {\n",
    "\t'LogisticRegression': LogisticRegression(),\n",
    "\t'RandomForest': RandomForestClassifier(),\n",
    "\t'XGBoost': xgb.XGBClassifier()\n",
    "}\n",
    "\n",
    "# Define pipelines for each classifier\n",
    "pipelines = {\n",
    "\tname: Pipeline(steps=[('preprocessor', preprocessor),\n",
    "\t\t\t\t\t\t  ('classifier', classifier)])\n",
    "\tfor name, classifier in classifiers.items()\n",
    "}\n",
    "\n",
    "# Define parameter grids for each classifier\n",
    "param_grids = {\n",
    "\t'LogisticRegression': {'classifier__C': [0.1, 1, 10]},\n",
    "\t'RandomForest': {'classifier__n_estimators': [10, 50, 100], \n",
    "\t\t\t\t\t 'classifier__max_depth': [3, 5, 10]},\n",
    "\t'XGBoost': {'classifier__learning_rate': [0.01, 0.1, 0.3],\n",
    "\t\t\t\t'classifier__n_estimators': [200, 300, 400]}\n",
    "}\n",
    "\n",
    "# Split the data\n",
    "X_train, X_test, y_train, y_test = train_test_split(X, y, test_size=0.2, random_state=42)\n",
    "\n",
    "# Initialize results storage\n",
    "results = {}\n",
    "\n",
    "# Run GridSearchCV for each pipeline\n",
    "for name, pipeline in pipelines.items():\n",
    "\tgrid_search = GridSearchCV(pipeline, param_grids[name], cv=5, scoring='accuracy')\n",
    "\tgrid_search.fit(X_train, y_train)\n",
    "\tbest_model = grid_search.best_estimator_\n",
    "\ty_pred = best_model.predict(X_test)\n",
    "\taccuracy = accuracy_score(y_test, y_pred)\n",
    "\tloss = log_loss(y_test, best_model.predict_proba(X_test))\n",
    "\tresults[name] = {'accuracy': accuracy, 'loss': loss}"
   ]
  },
  {
   "cell_type": "code",
   "execution_count": 6,
   "metadata": {},
   "outputs": [
    {
     "data": {
      "image/png": "[encoded data removed]",
      "text/plain": [
       "<Figure size 1200x600 with 2 Axes>"
      ]
     },
     "metadata": {},
     "output_type": "display_data"
    }
   ],
   "source": [
    "# Plotting\n",
    "fig, ax = plt.subplots(1, 2, figsize=(12, 6))\n",
    "classifiers_names = list(results.keys())\n",
    "accuracies = [results[name]['accuracy'] for name in classifiers_names]\n",
    "losses = [results[name]['loss'] for name in classifiers_names]\n",
    "\n",
    "# Plotting accuracy and loss with line plots\n",
    "ax[0].bar(classifiers_names, accuracies, label='Accuracy')\n",
    "ax[1].bar(classifiers_names, losses, label='Loss')\n",
    "\n",
    "ax[0].set_title('Accuracy Comparison')\n",
    "ax[0].set_ylabel('Accuracy')\n",
    "ax[1].set_title('Log Loss Comparison')\n",
    "ax[1].set_ylabel('Log Loss')\n",
    "ax[0].set_xticks(range(len(classifiers_names)))\n",
    "ax[0].set_xticklabels(classifiers_names, rotation=0)\n",
    "ax[1].set_xticks(range(len(classifiers_names)))\n",
    "ax[1].set_xticklabels(classifiers_names, rotation=0)\n",
    "\n",
    "plt.tight_layout()\n",
    "plt.show()"
   ]
  },
  {
   "cell_type": "code",
   "execution_count": 7,
   "metadata": {},
   "outputs": [
    {
     "data": {
      "text/html": [
       "<div>\n",
       "<style scoped>\n",
       "    .dataframe tbody tr th:only-of-type {\n",
       "        vertical-align: middle;\n",
       "    }\n",
       "\n",
       "    .dataframe tbody tr th {\n",
       "        vertical-align: top;\n",
       "    }\n",
       "\n",
       "    .dataframe thead th {\n",
       "        text-align: right;\n",
       "    }\n",
       "</style>\n",
       "<table border=\"1\" class=\"dataframe\">\n",
       "  <thead>\n",
       "    <tr style=\"text-align: right;\">\n",
       "      <th></th>\n",
       "      <th>LogisticRegression</th>\n",
       "      <th>RandomForest</th>\n",
       "      <th>XGBoost</th>\n",
       "    </tr>\n",
       "  </thead>\n",
       "  <tbody>\n",
       "    <tr>\n",
       "      <th>0</th>\n",
       "      <td>0.701887</td>\n",
       "      <td>0.822642</td>\n",
       "      <td>0.811321</td>\n",
       "    </tr>\n",
       "    <tr>\n",
       "      <th>1</th>\n",
       "      <td>0.696970</td>\n",
       "      <td>0.825758</td>\n",
       "      <td>0.848485</td>\n",
       "    </tr>\n",
       "    <tr>\n",
       "      <th>2</th>\n",
       "      <td>0.712121</td>\n",
       "      <td>0.833333</td>\n",
       "      <td>0.791667</td>\n",
       "    </tr>\n",
       "    <tr>\n",
       "      <th>3</th>\n",
       "      <td>0.708333</td>\n",
       "      <td>0.772727</td>\n",
       "      <td>0.814394</td>\n",
       "    </tr>\n",
       "    <tr>\n",
       "      <th>4</th>\n",
       "      <td>NaN</td>\n",
       "      <td>NaN</td>\n",
       "      <td>NaN</td>\n",
       "    </tr>\n",
       "  </tbody>\n",
       "</table>\n",
       "</div>"
      ],
      "text/plain": [
       "   LogisticRegression  RandomForest   XGBoost\n",
       "0            0.701887      0.822642  0.811321\n",
       "1            0.696970      0.825758  0.848485\n",
       "2            0.712121      0.833333  0.791667\n",
       "3            0.708333      0.772727  0.814394\n",
       "4                 NaN           NaN       NaN"
      ]
     },
     "execution_count": 7,
     "metadata": {},
     "output_type": "execute_result"
    }
   ],
   "source": [
    "# loop through pipelines and create a cvresults df for each model\n",
    "cv_results = {}\n",
    "for name, pipeline in pipelines.items():\n",
    "    cv_results[name] = cross_val_score(pipeline, X, y, cv=5, scoring='accuracy')\n",
    "\n",
    "# Create a DataFrame with the results\n",
    "cv_results_df = pd.DataFrame(cv_results)\n",
    "cv_results_df"
   ]
  },
  {
   "cell_type": "code",
   "execution_count": 8,
   "metadata": {},
   "outputs": [
    {
     "data": {
      "text/markdown": [
       "|    | metric    | model              |   precision |   support | dataset   |\n",
       "|---:|:----------|:-------------------|------------:|----------:|:----------|\n",
       "|  0 | macro avg | LogisticRegression |    0.763542 |      1056 | train     |\n",
       "|  1 | macro avg | LogisticRegression |    0.726571 |       265 | test      |\n",
       "|  2 | macro avg | RandomForest       |    1        |      1056 | train     |\n",
       "|  3 | macro avg | RandomForest       |    0.837577 |       265 | test      |\n",
       "|  4 | macro avg | XGBoost            |    1        |      1056 | train     |\n",
       "|  5 | macro avg | XGBoost            |    0.852137 |       265 | test      |"
      ],
      "text/plain": [
       "<IPython.core.display.Markdown object>"
      ]
     },
     "metadata": {},
     "output_type": "display_data"
    }
   ],
   "source": [
    "# create classification report for all models for train and test data \n",
    "# save each report to dataframe\n",
    "from sklearn.metrics import classification_report\n",
    "\n",
    "# Initialize results storage\n",
    "classification_reports = {}\n",
    "\n",
    "# iterate over pipelines\n",
    "for name, pipeline in pipelines.items():\n",
    "    best_model = pipeline.fit(X_train, y_train)\n",
    "    y_pred_train = best_model.predict(X_train)\n",
    "    y_pred_test = best_model.predict(X_test)\n",
    "    report_train = classification_report(y_train, y_pred_train, output_dict=True)\n",
    "    report_test = classification_report(y_test, y_pred_test, output_dict=True)\n",
    "    classification_reports[name] = {'train': report_train, 'test': report_test}\n",
    "\n",
    "# Create a DataFrame from the classification reports\n",
    "df_reports = pd.DataFrame()\n",
    "for model, reports in classification_reports.items():\n",
    "    for dataset, report in reports.items():\n",
    "        df = pd.DataFrame(report).T\n",
    "        df['model'] = model\n",
    "        df['dataset'] = dataset\n",
    "        df_reports = pd.concat([df_reports, df])\n",
    "\n",
    "# for df reports only include 'macro avg' in index\n",
    "df_reports = df_reports[df_reports.index == 'macro avg']\n",
    "\n",
    "# reorder columns for readability\n",
    "df_reports = pd.concat([df_reports.model,df_reports.drop('model', axis=1)], axis=1)\n",
    "\n",
    "# clean up axis for readability\n",
    "df_reports.rename_axis('metric', inplace=True)\n",
    "\n",
    "# filter columns to include for report and plots\n",
    "df_reports = df_reports.reset_index().iloc[:,[0,1,2,5,6]]\n",
    "\n",
    "df_reports.to_markdown()\n",
    "\n",
    "from IPython.display import display, Markdown\n",
    "display(Markdown(df_reports.to_markdown()))"
   ]
  },
  {
   "cell_type": "code",
   "execution_count": 9,
   "metadata": {},
   "outputs": [
    {
     "data": {
      "image/png": "[encoded data removed]",
      "text/plain": [
       "<Figure size 1200x400 with 1 Axes>"
      ]
     },
     "metadata": {},
     "output_type": "display_data"
    }
   ],
   "source": [
    "# create barplot with model as y, precision as x, and hue as dataset\n",
    "fig, ax = plt.subplots(figsize=(12, 4))\n",
    "sns.barplot(x='precision', y='model', hue='dataset', data=df_reports, ax=ax)\n",
    "plt.title('Precision Comparison')\n",
    "# put the legend out of the plot\n",
    "plt.legend(loc='center left', bbox_to_anchor=(1, 0.5))\n",
    "plt.show()\n"
   ]
  }
 ],
 "metadata": {
  "kernelspec": {
   "display_name": "dev",
   "language": "python",
   "name": "python3"
  },
  "language_info": {
   "codemirror_mode": {
    "name": "ipython",
    "version": 3
   },
   "file_extension": ".py",
   "mimetype": "text/x-python",
   "name": "python",
   "nbconvert_exporter": "python",
   "pygments_lexer": "ipython3",
   "version": "3.11.8"
  }
 },
 "nbformat": 4,
 "nbformat_minor": 2
}
