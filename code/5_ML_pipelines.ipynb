{
 "cells": [
  {
   "cell_type": "code",
   "execution_count": null,
   "metadata": {},
   "outputs": [],
   "source": [
    "import pandas as pd\n",
    "import numpy as np\n",
    "import matplotlib.pyplot as plt\n",
    "import seaborn as sns\n",
    "import warnings\n",
    "warnings.filterwarnings('ignore')\n",
    "\n",
    "# load the data\n",
    "data = pd.read_csv('../data/benchmark_features.csv')\n",
    "\n",
    "print(data.shape)\n",
    "display(data.head())\n"
   ]
  },
  {
   "cell_type": "markdown",
   "metadata": {},
   "source": [
    "## Import Require Libraries"
   ]
  },
  {
   "cell_type": "code",
   "execution_count": null,
   "metadata": {},
   "outputs": [],
   "source": [
    "from sklearn.compose import ColumnTransformer\n",
    "from sklearn.preprocessing import OneHotEncoder, StandardScaler\n",
    "from sklearn.linear_model import LogisticRegression\n",
    "from sklearn.ensemble import RandomForestClassifier\n",
    "import xgboost as xgb\n",
    "from sklearn.pipeline import Pipeline\n",
    "from sklearn.model_selection import train_test_split, GridSearchCV, cross_val_score\n",
    "import matplotlib.pyplot as plt\n",
    "from sklearn.metrics import accuracy_score, log_loss\n",
    "\n",
    "# assign X and y\n",
    "X, y = data.drop('dropout', axis=1), data['dropout']\n",
    "\n",
    "# print shape\n",
    "X.shape, y.shape"
   ]
  },
  {
   "cell_type": "markdown",
   "metadata": {},
   "source": [
    "## Split the Data\n",
    "First split into dev and test.  Test should equal 20% of data<br>\n",
    "Then split the dev data into train and validation.  Validation should equal 20% of data<br>"
   ]
  },
  {
   "cell_type": "code",
   "execution_count": null,
   "metadata": {},
   "outputs": [],
   "source": [
    "# split the data to traininig, validation and test sets\n",
    "X_dev, X_test, y_dev, y_test = train_test_split(X, y, test_size=0.165, random_state=0)\n",
    "\n",
    "# split the development set to training and validation sets\n",
    "X_train, X_val, y_train, y_val = train_test_split(X_dev, y_dev, test_size=0.20, random_state=0)\n",
    "\n",
    "# print the shape for each dataset\n",
    "print('Training set:', X_train.shape, y_train.shape)\n",
    "print('Validation set:', X_val.shape, y_val.shape)\n",
    "print('Test set:', X_test.shape, y_test.shape)\n"
   ]
  },
  {
   "cell_type": "markdown",
   "metadata": {},
   "source": [
    "## Assign columns to dtype for pipelines"
   ]
  },
  {
   "cell_type": "code",
   "execution_count": null,
   "metadata": {},
   "outputs": [],
   "source": [
    "# start with int and float\n",
    "int_columns = [col for col in X_train.columns if X_train[col].dtype == 'int64']\n",
    "float_columns = [col for col in X_train.columns if X_train[col].dtype == 'float64']\n",
    "\n",
    "# Combine both lists if you need columns of both types\n",
    "numeric_columns = int_columns + float_columns\n",
    "\n",
    "# get categorical columns\n",
    "categorical_columns = [col for col in X_train.columns if X_train[col].dtype == 'object']"
   ]
  },
  {
   "cell_type": "markdown",
   "metadata": {},
   "source": [
    "### Using C-Index as calssification metric"
   ]
  },
  {
   "cell_type": "markdown",
   "metadata": {},
   "source": [
    "## Implement Pipeline Objects\n",
    "`make_scorer()` - Create a scorer object<br>\n",
    "`ColumnTransformer()` - Create a column transformer object<br>\n",
    "`Pipeline()` - Create a pipeline object<br>\n",
    "`IterativeImputer()` - Impute missing values<br>\n",
    "`StandardScaler()` - Scale features<br>\n",
    "`SimpleImputer()` - Impute missing values<br>\n",
    "`OneHotEncoder()` - Encode categorical features<br>\n",
    "`LogisticRegression()` - Logistic Regression model<br>\n",
    "`RandomForestClassifier()` - Random Forest model<br>\n",
    "`XGBClassifier()` - XGBoost model<br>\n",
    "`GridSearchCV()` - Grid Search object<br>\n",
    "<br>\n",
    "## Param Grid Configurations\n",
    "\n",
    "```python\n",
    "'LogisticRegression': {'classifier__C': [0.1, 1, 10]},\n",
    "'RandomForest': {'classifier__n_estimators': [200, 300, 400],\n",
    "                'classifier__max_depth': [3, 5, 10]},\n",
    "'XGBoost': {'classifier__learning_rate': [0.01, 0.1, 0.3],\n",
    "                'classifier__n_estimators': [200, 300, 400]}\n",
    "```"
   ]
  },
  {
   "cell_type": "code",
   "execution_count": null,
   "metadata": {},
   "outputs": [],
   "source": [
    "import matplotlib.pyplot as plt\n",
    "import pandas as pd\n",
    "from sklearn.metrics import make_scorer\n",
    "\n",
    "from sklearn.experimental import enable_iterative_imputer\n",
    "from sklearn.impute import IterativeImputer, SimpleImputer\n",
    "import helper\n",
    "\n",
    "# Define the custom scoring function\n",
    "def cindex_scorer(y_true, y_pred):\n",
    "    return helper.cindex(y_true, y_pred)\n",
    "\n",
    "# Create a scorer object\n",
    "cindex = make_scorer(cindex_scorer, greater_is_better=True)\n",
    "\n",
    "# Instantiate the ColumnTransformer\n",
    "preprocessor = ColumnTransformer(\n",
    "    transformers=[\n",
    "        ('num', Pipeline(steps=[\n",
    "            ('imputer', IterativeImputer(max_iter=10, random_state=0)),\n",
    "            ('scaler', StandardScaler())\n",
    "        ]), numeric_columns),\n",
    "        ('cat', Pipeline(steps=[\n",
    "            ('imputer', SimpleImputer(strategy='constant', fill_value='missing')),\n",
    "            ('onehot', OneHotEncoder(handle_unknown='ignore'))\n",
    "        ]), categorical_columns)\n",
    "    ])\n",
    "\n",
    "# Define the classifiers\n",
    "classifiers = {\n",
    "    'LogisticRegression': LogisticRegression(),\n",
    "    'RandomForest': RandomForestClassifier(),\n",
    "    'XGBoost': xgb.XGBClassifier()\n",
    "}\n",
    "\n",
    "# Define pipelines for each classifier\n",
    "pipelines = {\n",
    "    name: Pipeline(steps=[('preprocessor', preprocessor),\n",
    "                          ('classifier', classifier)])\n",
    "    for name, classifier in classifiers.items()\n",
    "}\n",
    "\n",
    "# Define parameter grids for each classifier\n",
    "param_grids = {\n",
    "    'LogisticRegression': {'classifier__C': [0.1, 1, 10]},\n",
    "    'RandomForest': {'classifier__n_estimators': [200, 300, 400], \n",
    "                     'classifier__max_depth': [3, 5, 10]},\n",
    "    'XGBoost': {'classifier__learning_rate': [0.01, 0.1, 0.3],\n",
    "                'classifier__n_estimators': [200, 300, 400]}\n",
    "}\n",
    "\n",
    "\n",
    "# Initialize results storage\n",
    "results = []\n",
    "\n",
    "# Run GridSearchCV for each pipeline\n",
    "for name, pipeline in pipelines.items():\n",
    "    print(f\"Training {name}...\")\n",
    "    grid_search = GridSearchCV(pipeline, param_grids[name], cv=5, scoring=cindex, return_train_score=True)\n",
    "    grid_search.fit(X_train, y_train)\n",
    "    \n",
    "    best_model = grid_search.best_estimator_\n",
    "    y_train_pred = best_model.predict(X_train)\n",
    "    y_val_pred = best_model.predict(X_val)\n",
    "    \n",
    "    train_accuracy = helper.cindex(y_train, y_train_pred)\n",
    "    val_accuracy = helper.cindex(y_val, y_val_pred)\n",
    "    \n",
    "    print(f\"{name} - Train Accuracy: {train_accuracy:.4f}, Validation Accuracy: {val_accuracy:.4f}\")\n",
    "    \n",
    "    results.append({\n",
    "        'model': name,\n",
    "        'train_accuracy': train_accuracy,\n",
    "        'validation_accuracy': val_accuracy,\n",
    "        'best_params': grid_search.best_params_\n",
    "    })\n",
    "\n",
    "# Convert results to DataFrame\n",
    "results_df = pd.DataFrame(results)\n",
    "\n",
    "# Print the best parameters for each model\n",
    "for index, row in results_df.iterrows():\n",
    "    print()\n",
    "    print(f\"Model: {row['model']}\")\n",
    "    print()\n",
    "    print(f\"Best Parameters: {row['best_params']}\")\n",
    "    print()\n"
   ]
  },
  {
   "cell_type": "markdown",
   "metadata": {},
   "source": [
    "## Now Run the Models on the Unseen Test Data"
   ]
  },
  {
   "cell_type": "code",
   "execution_count": null,
   "metadata": {},
   "outputs": [],
   "source": [
    "# run the models on the best parameters and test accuracy on the test set and plot results\n",
    "results = []\n",
    "\n",
    "for name, pipeline in pipelines.items():\n",
    "    best_model = pipeline.set_params(**results_df[results_df['model'] == name]['best_params'].values[0])\n",
    "    best_model.fit(X_dev, y_dev)\n",
    "    \n",
    "    y_test_pred = best_model.predict(X_test)\n",
    "    test_accuracy = helper.cindex(y_test, y_test_pred)\n",
    "    \n",
    "    results.append({\n",
    "        'model': name,\n",
    "        'test_accuracy': test_accuracy\n",
    "    })\n",
    "\n",
    "    print(f\"{name} - Test Accuracy: {test_accuracy:.4f}\")\n",
    "\n",
    "# Convert results to DataFrame\n",
    "results_df = pd.DataFrame(results)\n",
    "\n",
    "    "
   ]
  },
  {
   "cell_type": "code",
   "execution_count": null,
   "metadata": {},
   "outputs": [],
   "source": [
    "# plot the accuracy on the test set\n",
    "plt.figure(figsize=(10, 6))\n",
    "plt.bar(results_df['model'], results_df['test_accuracy'])\n",
    "plt.title('Test Accuracy')\n",
    "plt.xlabel('Model')\n",
    "plt.ylabel('C-Index')\n",
    "plt.axhline(y=0.8669, color='orange', linestyle='--')\n",
    "plt.show()\n"
   ]
  }
 ],
 "metadata": {
  "kernelspec": {
   "display_name": "dev",
   "language": "python",
   "name": "python3"
  },
  "language_info": {
   "codemirror_mode": {
    "name": "ipython",
    "version": 3
   },
   "file_extension": ".py",
   "mimetype": "text/x-python",
   "name": "python",
   "nbconvert_exporter": "python",
   "pygments_lexer": "ipython3",
   "version": "3.11.8"
  }
 },
 "nbformat": 4,
 "nbformat_minor": 2
}
