{
 "cells": [
  {
   "cell_type": "code",
   "execution_count": 3,
   "metadata": {},
   "outputs": [
    {
     "name": "stderr",
     "output_type": "stream",
     "text": [
      "/var/folders/f1/dmgdbt5j5nb5ht5_vfxmr8gm0000gn/T/ipykernel_55826/3369254923.py:3: DtypeWarning: Columns (6) have mixed types. Specify dtype option on import or set low_memory=False.\n",
      "  data = pd.read_csv('~/Downloads/VSRR_Provisional_Drug_Overdose_Death_Counts (1).csv')\n"
     ]
    },
    {
     "data": {
      "text/plain": [
       "(66381, 12)"
      ]
     },
     "execution_count": 3,
     "metadata": {},
     "output_type": "execute_result"
    }
   ],
   "source": [
    "import pandas as pd\n",
    "\n",
    "data = pd.read_csv('~/Downloads/VSRR_Provisional_Drug_Overdose_Death_Counts (1).csv')\n",
    "\n",
    "data.shape"
   ]
  },
  {
   "cell_type": "code",
   "execution_count": 11,
   "metadata": {},
   "outputs": [
    {
     "data": {
      "text/html": [
       "<div>\n",
       "<style scoped>\n",
       "    .dataframe tbody tr th:only-of-type {\n",
       "        vertical-align: middle;\n",
       "    }\n",
       "\n",
       "    .dataframe tbody tr th {\n",
       "        vertical-align: top;\n",
       "    }\n",
       "\n",
       "    .dataframe thead th {\n",
       "        text-align: right;\n",
       "    }\n",
       "</style>\n",
       "<table border=\"1\" class=\"dataframe\">\n",
       "  <thead>\n",
       "    <tr style=\"text-align: right;\">\n",
       "      <th></th>\n",
       "      <th>Data Value</th>\n",
       "    </tr>\n",
       "    <tr>\n",
       "      <th>Indicator</th>\n",
       "      <th></th>\n",
       "    </tr>\n",
       "  </thead>\n",
       "  <tbody>\n",
       "    <tr>\n",
       "      <th>Cocaine (T40.5)</th>\n",
       "      <td>11</td>\n",
       "    </tr>\n",
       "    <tr>\n",
       "      <th>Heroin (T40.1)</th>\n",
       "      <td>34</td>\n",
       "    </tr>\n",
       "    <tr>\n",
       "      <th>Methadone (T40.3)</th>\n",
       "      <td>10</td>\n",
       "    </tr>\n",
       "    <tr>\n",
       "      <th>Natural &amp; semi-synthetic opioids (T40.2)</th>\n",
       "      <td>48</td>\n",
       "    </tr>\n",
       "    <tr>\n",
       "      <th>Natural &amp; semi-synthetic opioids, incl. methadone (T40.2, T40.3)</th>\n",
       "      <td>54</td>\n",
       "    </tr>\n",
       "    <tr>\n",
       "      <th>Natural, semi-synthetic, &amp; synthetic opioids, incl. methadone (T40.2-T40.4)</th>\n",
       "      <td>64</td>\n",
       "    </tr>\n",
       "    <tr>\n",
       "      <th>Number of Deaths</th>\n",
       "      <td>4,133</td>\n",
       "    </tr>\n",
       "    <tr>\n",
       "      <th>Number of Drug Overdose Deaths</th>\n",
       "      <td>126</td>\n",
       "    </tr>\n",
       "    <tr>\n",
       "      <th>Opioids (T40.0-T40.4,T40.6)</th>\n",
       "      <td>79</td>\n",
       "    </tr>\n",
       "    <tr>\n",
       "      <th>Percent with drugs specified</th>\n",
       "      <td>88.0952381</td>\n",
       "    </tr>\n",
       "    <tr>\n",
       "      <th>Psychostimulants with abuse potential (T43.6)</th>\n",
       "      <td>26</td>\n",
       "    </tr>\n",
       "    <tr>\n",
       "      <th>Synthetic opioids, excl. methadone (T40.4)</th>\n",
       "      <td>15</td>\n",
       "    </tr>\n",
       "  </tbody>\n",
       "</table>\n",
       "</div>"
      ],
      "text/plain": [
       "                                                    Data Value\n",
       "Indicator                                                     \n",
       "Cocaine (T40.5)                                             11\n",
       "Heroin (T40.1)                                              34\n",
       "Methadone (T40.3)                                           10\n",
       "Natural & semi-synthetic opioids (T40.2)                    48\n",
       "Natural & semi-synthetic opioids, incl. methado...          54\n",
       "Natural, semi-synthetic, & synthetic opioids, i...          64\n",
       "Number of Deaths                                         4,133\n",
       "Number of Drug Overdose Deaths                             126\n",
       "Opioids (T40.0-T40.4,T40.6)                                 79\n",
       "Percent with drugs specified                        88.0952381\n",
       "Psychostimulants with abuse potential (T43.6)               26\n",
       "Synthetic opioids, excl. methadone (T40.4)                  15"
      ]
     },
     "execution_count": 11,
     "metadata": {},
     "output_type": "execute_result"
    }
   ],
   "source": [
    "data.groupby('Indicator').agg({'Data Value': 'first'})"
   ]
  }
 ],
 "metadata": {
  "kernelspec": {
   "display_name": "dev",
   "language": "python",
   "name": "python3"
  },
  "language_info": {
   "codemirror_mode": {
    "name": "ipython",
    "version": 3
   },
   "file_extension": ".py",
   "mimetype": "text/x-python",
   "name": "python",
   "nbconvert_exporter": "python",
   "pygments_lexer": "ipython3",
   "version": "3.11.8"
  }
 },
 "nbformat": 4,
 "nbformat_minor": 2
}
