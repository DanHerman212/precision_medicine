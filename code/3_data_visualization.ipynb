{
 "cells": [
  {
   "cell_type": "markdown",
   "metadata": {},
   "source": [
    "### Data Visualizaiton\n",
    "Plotting can be challenging with a wide dataset, with 432 columns.<br>\n",
    "For that reason, we created a few reusable functions to simply<br>\n",
    "the process.<br>\n",
    "\n",
    "| Function | Description |\n",
    "|:--- | :--- |\n",
    "| `drug_test_df` | This function uses the following workflow to subset data:\n",
    "Filter data, select columns, rename columns, sum columns, create series|\n",
    "|                | Filter data, select columns, rename columns, sum columns, create series    \n",
    "| `plot_drug_test` | Plot the patient's data |        \n",
    "\n",
    "We will explore the dataset to answer the following research questions:\n",
    "1. What is the trajectory of recovery for patients by medication\n",
    "2. What is the pattern for recovery in each medication group"
   ]
  },
  {
   "cell_type": "code",
   "execution_count": 1,
   "metadata": {},
   "outputs": [
    {
     "data": {
      "text/plain": [
       "(1920, 434)"
      ]
     },
     "execution_count": 1,
     "metadata": {},
     "output_type": "execute_result"
    }
   ],
   "source": [
    "# import required libraries\n",
    "import pandas as pd\n",
    "import numpy as np\n",
    "import matplotlib.pyplot as plt\n",
    "import seaborn as sns\n",
    "import helper \n",
    "import warnings\n",
    "warnings.filterwarnings('ignore')\n",
    "\n",
    "# load the data\n",
    "data = pd.read_csv('../data/merged_data.csv')\n",
    "\n",
    "data.shape"
   ]
  },
  {
   "cell_type": "markdown",
   "metadata": {},
   "source": [
    "### Build a Dataframe with Time Series for Plotting"
   ]
  },
  {
   "cell_type": "code",
   "execution_count": 2,
   "metadata": {},
   "outputs": [],
   "source": [
    "# call the helper function to create test dataframe\n",
    "methadone, buprenorphine = helper.test_dataframes(data)"
   ]
  },
  {
   "cell_type": "code",
   "execution_count": null,
   "metadata": {},
   "outputs": [],
   "source": [
    "# set figure size \n",
    "fig = plt.figure(figsize=(12, 14))\n",
    "\n",
    "# use barpl"
   ]
  },
  {
   "cell_type": "code",
   "execution_count": 6,
   "metadata": {},
   "outputs": [
    {
     "data": {
      "text/html": [
       "<div>\n",
       "<style scoped>\n",
       "    .dataframe tbody tr th:only-of-type {\n",
       "        vertical-align: middle;\n",
       "    }\n",
       "\n",
       "    .dataframe tbody tr th {\n",
       "        vertical-align: top;\n",
       "    }\n",
       "\n",
       "    .dataframe thead th {\n",
       "        text-align: right;\n",
       "    }\n",
       "</style>\n",
       "<table border=\"1\" class=\"dataframe\">\n",
       "  <thead>\n",
       "    <tr style=\"text-align: right;\">\n",
       "      <th></th>\n",
       "      <th>met_r</th>\n",
       "      <th>met_nr</th>\n",
       "      <th>all</th>\n",
       "    </tr>\n",
       "  </thead>\n",
       "  <tbody>\n",
       "    <tr>\n",
       "      <th>0</th>\n",
       "      <td>110.0</td>\n",
       "      <td>227.0</td>\n",
       "      <td>337.0</td>\n",
       "    </tr>\n",
       "  </tbody>\n",
       "</table>\n",
       "</div>"
      ],
      "text/plain": [
       "   met_r  met_nr    all\n",
       "0  110.0   227.0  337.0"
      ]
     },
     "execution_count": 6,
     "metadata": {},
     "output_type": "execute_result"
    }
   ],
   "source": [
    "methadone[:1]"
   ]
  },
  {
   "cell_type": "code",
   "execution_count": 7,
   "metadata": {},
   "outputs": [
    {
     "data": {
      "text/html": [
       "<div>\n",
       "<style scoped>\n",
       "    .dataframe tbody tr th:only-of-type {\n",
       "        vertical-align: middle;\n",
       "    }\n",
       "\n",
       "    .dataframe tbody tr th {\n",
       "        vertical-align: top;\n",
       "    }\n",
       "\n",
       "    .dataframe thead th {\n",
       "        text-align: right;\n",
       "    }\n",
       "</style>\n",
       "<table border=\"1\" class=\"dataframe\">\n",
       "  <thead>\n",
       "    <tr style=\"text-align: right;\">\n",
       "      <th></th>\n",
       "      <th>bup_r</th>\n",
       "      <th>bup_nr</th>\n",
       "      <th>all</th>\n",
       "    </tr>\n",
       "  </thead>\n",
       "  <tbody>\n",
       "    <tr>\n",
       "      <th>0</th>\n",
       "      <td>103.0</td>\n",
       "      <td>189.0</td>\n",
       "      <td>292.0</td>\n",
       "    </tr>\n",
       "  </tbody>\n",
       "</table>\n",
       "</div>"
      ],
      "text/plain": [
       "   bup_r  bup_nr    all\n",
       "0  103.0   189.0  292.0"
      ]
     },
     "execution_count": 7,
     "metadata": {},
     "output_type": "execute_result"
    }
   ],
   "source": [
    "buprenorphine[:1]"
   ]
  },
  {
   "cell_type": "code",
   "execution_count": null,
   "metadata": {},
   "outputs": [],
   "source": [
    "def plot_tests_groups(df,medication):\n",
    "    \"\"\"\n",
    "    function accepts a dataframe and medication name\n",
    "    to easily plot meaningful data in to show trajaectory\n",
    "    of the patients recovery, compared to other groups.\n",
    "\n",
    "    \"\"\"\n",
    "    if medication == 'methadone':\n",
    "        # create barplot for methadone group\n",
    "        sns.barplot(x='time', y='value', hue='variable', data=df)\n",
    "    else:\n",
    "        # create barplot for buprenorphine group\n",
    "        sns.barplot(x='time', y='value', hue='variable', data=df)\n",
    "\n",
    "    if medication == 'methadone':\n",
    "        # use lineplot to plot methadone tests\n",
    "        plt.plot(np.array(df.index), np.array(df['met']), color='blue', label='Methadone', linewidth=2.5);\n",
    "    else:\n",
    "        # use lineplot to plot buprenorphine tests\n",
    "        plt.plot(np.array(df.index), np.array(df['bup']), color='red', label='Buprenorphine', linewidth=2.5);"
   ]
  },
  {
   "cell_type": "code",
   "execution_count": null,
   "metadata": {},
   "outputs": [],
   "source": [
    "# set figure size\n",
    "fig = plt.figure(figsize=(12, 4))\n",
    "\n",
    "# use barplot to plot all tests\n",
    "sns.barplot(x=np.array(tests.index), y='all', data=tests, color='darkgray')\n",
    "\n",
    "# use lineplot to plot methadone tests\n",
    "plt.plot(np.array(tests.index), np.array(tests['met']), color='blue', label='Methadone', linewidth=2.5);\n",
    "\n",
    "# use lineplot to plot buprenorphine tests\n",
    "plt.plot(np.array(tests.index), np.array(tests['bup']), color='red', label='Buprenorphine', linewidth=2.5);\n",
    "\n",
    "# Add labels and title\n",
    "plt.title('Positive Opiate Tests by Week and Medication Type')\n",
    "plt.ylabel('Count of Positive Opiate Tests')\n",
    "plt.xlabel('Week of Treatment')\n",
    "plt.legend();"
   ]
  },
  {
   "cell_type": "code",
   "execution_count": null,
   "metadata": {},
   "outputs": [],
   "source": [
    "# set figure size\n",
    "fig = plt.figure(figsize=(12, 6))\n",
    "\n",
    "# use barplot to plot all tests\n",
    "sns.barplot(x=np.array(methadone.index), y='all', data=methadone, color='darkgray', alpha=0.5, edgecolor='black')\n",
    "\n",
    "# use lineplot to plot methadone tests for patients who responded to treatment\n",
    "plt.plot(np.array(methadone.index), np.array(methadone['met_r']), color='blue', label='Responder', linewidth=2.5);\n",
    "\n",
    "# use lineplot to plot methadone tests for patients who did not respond to treatment\n",
    "plt.plot(np.array(methadone.index), np.array(methadone['met_nr']), color='red', label='Non-Responder', linewidth=2.5);\n",
    "\n",
    "# Add labels and title\n",
    "plt.title('Positive Opiate Tests for Methadone Patients by Week and Response')\n",
    "plt.ylabel('Count of Positive Opiate Tests')\n",
    "plt.xlabel('Week of Treatment')\n",
    "plt.legend(['responder', 'non-responder'])\n",
    "plt.legend();\n"
   ]
  },
  {
   "cell_type": "code",
   "execution_count": null,
   "metadata": {},
   "outputs": [],
   "source": [
    "# set figure size\n",
    "fig = plt.figure(figsize=(12, 6))\n",
    "\n",
    "# use barplot to plot all tests\n",
    "sns.barplot(x=np.array(buprenorphine.index), y='all', data=buprenorphine, color='darkgray', alpha=0.5, edgecolor='black')\n",
    "\n",
    "# use lineplot to plot buprenorphine tests for patients who responded to treatment\n",
    "plt.plot(np.array(buprenorphine.index), np.array(buprenorphine['bup_r']), color='blue', label='Responder', linewidth=2.5);\n",
    "\n",
    "# use lineplot to plot buprenorphine tests for patients who did not respond to treatment\n",
    "plt.plot(np.array(buprenorphine.index), np.array(buprenorphine['bup_nr']), color='red', label='Non-Responder', linewidth=2.5);\n",
    "\n",
    "# Add labels and title\n",
    "plt.title('Positive Opiate Tests for Buprenorphine Patients by Week and Response')\n",
    "plt.ylabel('Count of Positive Opiate Tests')\n",
    "plt.xlabel('Week of Treatment')\n",
    "plt.legend();"
   ]
  },
  {
   "cell_type": "code",
   "execution_count": null,
   "metadata": {},
   "outputs": [],
   "source": [
    "# create df with bup responders and met responders\n",
    "responder = pd.concat([methadone[['met_r']],buprenorphine[['bup_r']]], axis=1)\n",
    "\n",
    "responder['all'] = responder['met_r'] + responder['bup_r']\n",
    "\n",
    "responder"
   ]
  },
  {
   "cell_type": "code",
   "execution_count": null,
   "metadata": {},
   "outputs": [],
   "source": [
    "# set figure size\n",
    "fig = plt.figure(figsize=(12, 6))\n",
    "\n",
    "# use barplot to plot all tests\n",
    "sns.barplot(x=np.array(responder.index), y='all', data=responder, color='darkgray', alpha=0.5, edgecolor='black')\n",
    "\n",
    "# use lineplot to plot buprenorphine tests for patients who responded to treatment\n",
    "plt.plot(np.array(responder.index), np.array(responder['bup_r']), color='blue', label='Buprenorphine', linewidth=2.5);\n",
    "\n",
    "# use lineplot to plot methadone tests for patients who responded to treatment\n",
    "plt.plot(np.array(responder.index), np.array(responder['met_r']), color='red', label='Methadone', linewidth=2.5);\n",
    "\n",
    "# Add labels and title\n",
    "plt.title('Positive Opiate Tests for Responders by Week and Medication')\n",
    "plt.ylabel('Count of Positive Opiate Tests')\n",
    "plt.xlabel('Week of Treatment')\n",
    "plt.legend();\n"
   ]
  },
  {
   "cell_type": "code",
   "execution_count": null,
   "metadata": {},
   "outputs": [],
   "source": [
    "# create df with bup non-responders and met non-responders\n",
    "non_responder = pd.concat([methadone[['met_nr']],buprenorphine[['bup_nr']]], axis=1)\n",
    "\n",
    "non_responder['all'] = non_responder['met_nr'] + non_responder['bup_nr']\n",
    "\n",
    "non_responder"
   ]
  },
  {
   "cell_type": "code",
   "execution_count": null,
   "metadata": {},
   "outputs": [],
   "source": [
    "# set figure size\n",
    "fig = plt.figure(figsize=(12, 6))\n",
    "\n",
    "# use barplot to plot all tests\n",
    "sns.barplot(x=np.array(non_responder.index), y='all', data=non_responder, color='darkgray', alpha=0.5, edgecolor='black')\n",
    "\n",
    "# use lineplot to plot buprenorphine tests for patients who did not respond to treatment\n",
    "plt.plot(np.array(non_responder.index), np.array(non_responder['bup_nr']), color='blue', label='Buprenorphine', linewidth=2.5);\n",
    "\n",
    "# use lineplot to plot methadone tests for patients who did not respond to treatment\n",
    "plt.plot(np.array(non_responder.index), np.array(non_responder['met_nr']), color='red', label='Methadone', linewidth=2.5);\n",
    "\n",
    "# Add labels and title\n",
    "plt.title('Positive Opiate Tests for Non-Responders by Week and Medication')\n",
    "plt.ylabel('Count of Positive Opiate Tests')\n",
    "plt.xlabel('Week of Treatment')\n",
    "plt.legend()\n",
    "plt.show();\n",
    "\n",
    "# create df with bup non-responders and met responders"
   ]
  }
 ],
 "metadata": {
  "kernelspec": {
   "display_name": "dev",
   "language": "python",
   "name": "python3"
  },
  "language_info": {
   "codemirror_mode": {
    "name": "ipython",
    "version": 3
   },
   "file_extension": ".py",
   "mimetype": "text/x-python",
   "name": "python",
   "nbconvert_exporter": "python",
   "pygments_lexer": "ipython3",
   "version": "3.11.8"
  }
 },
 "nbformat": 4,
 "nbformat_minor": 2
}
