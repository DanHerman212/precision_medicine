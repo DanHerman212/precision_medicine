{
 "cells": [
  {
   "cell_type": "code",
   "execution_count": 1,
   "metadata": {},
   "outputs": [
    {
     "name": "stdout",
     "output_type": "stream",
     "text": [
      "(1321, 61)\n"
     ]
    },
    {
     "data": {
      "text/html": [
       "<div>\n",
       "<style scoped>\n",
       "    .dataframe tbody tr th:only-of-type {\n",
       "        vertical-align: middle;\n",
       "    }\n",
       "\n",
       "    .dataframe tbody tr th {\n",
       "        vertical-align: top;\n",
       "    }\n",
       "\n",
       "    .dataframe thead th {\n",
       "        text-align: right;\n",
       "    }\n",
       "</style>\n",
       "<table border=\"1\" class=\"dataframe\">\n",
       "  <thead>\n",
       "    <tr style=\"text-align: right;\">\n",
       "      <th></th>\n",
       "      <th>test_Opiate300_0</th>\n",
       "      <th>test_Opiate300_1</th>\n",
       "      <th>test_Opiate300_2</th>\n",
       "      <th>test_Opiate300_3</th>\n",
       "      <th>test_Opiate300_4</th>\n",
       "      <th>survey_opiates_0</th>\n",
       "      <th>survey_opiates_4</th>\n",
       "      <th>meds_methadone_0</th>\n",
       "      <th>meds_buprenorphine_0</th>\n",
       "      <th>meds_methadone_1</th>\n",
       "      <th>...</th>\n",
       "      <th>pex_musculoskeletal</th>\n",
       "      <th>pex_gi_system</th>\n",
       "      <th>pex_extremeties</th>\n",
       "      <th>pex_neurological</th>\n",
       "      <th>pex_gen_appearance</th>\n",
       "      <th>pex_ears_nose_throat</th>\n",
       "      <th>pex_head_neck</th>\n",
       "      <th>pex_cardio</th>\n",
       "      <th>pex_skin</th>\n",
       "      <th>dropout</th>\n",
       "    </tr>\n",
       "  </thead>\n",
       "  <tbody>\n",
       "    <tr>\n",
       "      <th>0</th>\n",
       "      <td>1.0</td>\n",
       "      <td>0.0</td>\n",
       "      <td>0.0</td>\n",
       "      <td>0.0</td>\n",
       "      <td>0.0</td>\n",
       "      <td>30.0</td>\n",
       "      <td>0.0</td>\n",
       "      <td>0.0</td>\n",
       "      <td>8.0</td>\n",
       "      <td>0.0</td>\n",
       "      <td>...</td>\n",
       "      <td>abnormal</td>\n",
       "      <td>abnormal</td>\n",
       "      <td>normal</td>\n",
       "      <td>normal</td>\n",
       "      <td>normal</td>\n",
       "      <td>normal</td>\n",
       "      <td>normal</td>\n",
       "      <td>normal</td>\n",
       "      <td>normal</td>\n",
       "      <td>0.0</td>\n",
       "    </tr>\n",
       "    <tr>\n",
       "      <th>1</th>\n",
       "      <td>1.0</td>\n",
       "      <td>1.0</td>\n",
       "      <td>1.0</td>\n",
       "      <td>1.0</td>\n",
       "      <td>1.0</td>\n",
       "      <td>30.0</td>\n",
       "      <td>5.0</td>\n",
       "      <td>0.0</td>\n",
       "      <td>8.0</td>\n",
       "      <td>0.0</td>\n",
       "      <td>...</td>\n",
       "      <td>normal</td>\n",
       "      <td>abnormal</td>\n",
       "      <td>normal</td>\n",
       "      <td>normal</td>\n",
       "      <td>abnormal</td>\n",
       "      <td>abnormal</td>\n",
       "      <td>normal</td>\n",
       "      <td>normal</td>\n",
       "      <td>abnormal</td>\n",
       "      <td>0.0</td>\n",
       "    </tr>\n",
       "    <tr>\n",
       "      <th>2</th>\n",
       "      <td>1.0</td>\n",
       "      <td>1.0</td>\n",
       "      <td>1.0</td>\n",
       "      <td>1.0</td>\n",
       "      <td>1.0</td>\n",
       "      <td>30.0</td>\n",
       "      <td>9.0</td>\n",
       "      <td>30.0</td>\n",
       "      <td>0.0</td>\n",
       "      <td>170.0</td>\n",
       "      <td>...</td>\n",
       "      <td>normal</td>\n",
       "      <td>normal</td>\n",
       "      <td>normal</td>\n",
       "      <td>normal</td>\n",
       "      <td>normal</td>\n",
       "      <td>normal</td>\n",
       "      <td>normal</td>\n",
       "      <td>normal</td>\n",
       "      <td>abnormal</td>\n",
       "      <td>0.0</td>\n",
       "    </tr>\n",
       "    <tr>\n",
       "      <th>3</th>\n",
       "      <td>1.0</td>\n",
       "      <td>1.0</td>\n",
       "      <td>0.0</td>\n",
       "      <td>1.0</td>\n",
       "      <td>1.0</td>\n",
       "      <td>30.0</td>\n",
       "      <td>6.0</td>\n",
       "      <td>0.0</td>\n",
       "      <td>16.0</td>\n",
       "      <td>0.0</td>\n",
       "      <td>...</td>\n",
       "      <td>normal</td>\n",
       "      <td>normal</td>\n",
       "      <td>normal</td>\n",
       "      <td>normal</td>\n",
       "      <td>normal</td>\n",
       "      <td>normal</td>\n",
       "      <td>normal</td>\n",
       "      <td>normal</td>\n",
       "      <td>normal</td>\n",
       "      <td>0.0</td>\n",
       "    </tr>\n",
       "    <tr>\n",
       "      <th>4</th>\n",
       "      <td>1.0</td>\n",
       "      <td>1.0</td>\n",
       "      <td>1.0</td>\n",
       "      <td>1.0</td>\n",
       "      <td>1.0</td>\n",
       "      <td>5.0</td>\n",
       "      <td>0.0</td>\n",
       "      <td>0.0</td>\n",
       "      <td>16.0</td>\n",
       "      <td>0.0</td>\n",
       "      <td>...</td>\n",
       "      <td>normal</td>\n",
       "      <td>abnormal</td>\n",
       "      <td>abnormal</td>\n",
       "      <td>normal</td>\n",
       "      <td>abnormal</td>\n",
       "      <td>abnormal</td>\n",
       "      <td>normal</td>\n",
       "      <td>normal</td>\n",
       "      <td>abnormal</td>\n",
       "      <td>1.0</td>\n",
       "    </tr>\n",
       "  </tbody>\n",
       "</table>\n",
       "<p>5 rows × 61 columns</p>\n",
       "</div>"
      ],
      "text/plain": [
       "   test_Opiate300_0  test_Opiate300_1  test_Opiate300_2  test_Opiate300_3  \\\n",
       "0               1.0               0.0               0.0               0.0   \n",
       "1               1.0               1.0               1.0               1.0   \n",
       "2               1.0               1.0               1.0               1.0   \n",
       "3               1.0               1.0               0.0               1.0   \n",
       "4               1.0               1.0               1.0               1.0   \n",
       "\n",
       "   test_Opiate300_4  survey_opiates_0  survey_opiates_4  meds_methadone_0  \\\n",
       "0               0.0              30.0               0.0               0.0   \n",
       "1               1.0              30.0               5.0               0.0   \n",
       "2               1.0              30.0               9.0              30.0   \n",
       "3               1.0              30.0               6.0               0.0   \n",
       "4               1.0               5.0               0.0               0.0   \n",
       "\n",
       "   meds_buprenorphine_0  meds_methadone_1  ...  pex_musculoskeletal  \\\n",
       "0                   8.0               0.0  ...             abnormal   \n",
       "1                   8.0               0.0  ...               normal   \n",
       "2                   0.0             170.0  ...               normal   \n",
       "3                  16.0               0.0  ...               normal   \n",
       "4                  16.0               0.0  ...               normal   \n",
       "\n",
       "   pex_gi_system  pex_extremeties  pex_neurological  pex_gen_appearance  \\\n",
       "0       abnormal           normal            normal              normal   \n",
       "1       abnormal           normal            normal            abnormal   \n",
       "2         normal           normal            normal              normal   \n",
       "3         normal           normal            normal              normal   \n",
       "4       abnormal         abnormal            normal            abnormal   \n",
       "\n",
       "   pex_ears_nose_throat  pex_head_neck  pex_cardio  pex_skin  dropout  \n",
       "0                normal         normal      normal    normal      0.0  \n",
       "1              abnormal         normal      normal  abnormal      0.0  \n",
       "2                normal         normal      normal  abnormal      0.0  \n",
       "3                normal         normal      normal    normal      0.0  \n",
       "4              abnormal         normal      normal  abnormal      1.0  \n",
       "\n",
       "[5 rows x 61 columns]"
      ]
     },
     "metadata": {},
     "output_type": "display_data"
    }
   ],
   "source": [
    "import pandas as pd\n",
    "import numpy as np\n",
    "import matplotlib.pyplot as plt\n",
    "import seaborn as sns\n",
    "import warnings\n",
    "warnings.filterwarnings('ignore')\n",
    "\n",
    "# load the data\n",
    "data = pd.read_csv('../data/benchmark_features.csv')\n",
    "\n",
    "print(data.shape)\n",
    "display(data.head())\n"
   ]
  },
  {
   "cell_type": "markdown",
   "metadata": {},
   "source": [
    "## Import Require Libraries"
   ]
  },
  {
   "cell_type": "code",
   "execution_count": 2,
   "metadata": {},
   "outputs": [
    {
     "data": {
      "text/plain": [
       "((1321, 60), (1321,))"
      ]
     },
     "execution_count": 2,
     "metadata": {},
     "output_type": "execute_result"
    }
   ],
   "source": [
    "from sklearn.compose import ColumnTransformer\n",
    "from sklearn.preprocessing import OneHotEncoder, StandardScaler\n",
    "from sklearn.linear_model import LogisticRegression\n",
    "from sklearn.ensemble import RandomForestClassifier\n",
    "import xgboost as xgb\n",
    "from sklearn.pipeline import Pipeline\n",
    "from sklearn.model_selection import train_test_split, GridSearchCV, cross_val_score\n",
    "import matplotlib.pyplot as plt\n",
    "from sklearn.metrics import accuracy_score, log_loss\n",
    "\n",
    "# assign X and y\n",
    "X, y = data.drop('dropout', axis=1), data['dropout']\n",
    "\n",
    "# print shape\n",
    "X.shape, y.shape"
   ]
  },
  {
   "cell_type": "markdown",
   "metadata": {},
   "source": [
    "## Split the Data\n",
    "First split into dev and test.  Test should equal 20% of data<br>\n",
    "Then split the dev data into train and validation.  Validation should equal 20% of data<br>"
   ]
  },
  {
   "cell_type": "code",
   "execution_count": 3,
   "metadata": {},
   "outputs": [
    {
     "name": "stdout",
     "output_type": "stream",
     "text": [
      "Training set: (882, 60) (882,)\n",
      "Validation set: (221, 60) (221,)\n",
      "Test set: (218, 60) (218,)\n"
     ]
    }
   ],
   "source": [
    "# split the data to traininig, validation and test sets\n",
    "X_dev, X_test, y_dev, y_test = train_test_split(X, y, test_size=0.165, random_state=0)\n",
    "\n",
    "# split the development set to training and validation sets\n",
    "X_train, X_val, y_train, y_val = train_test_split(X_dev, y_dev, test_size=0.20, random_state=0)\n",
    "\n",
    "# print the shape for each dataset\n",
    "print('Training set:', X_train.shape, y_train.shape)\n",
    "print('Validation set:', X_val.shape, y_val.shape)\n",
    "print('Test set:', X_test.shape, y_test.shape)\n"
   ]
  },
  {
   "cell_type": "markdown",
   "metadata": {},
   "source": [
    "## Assign columns to dtype for pipelines"
   ]
  },
  {
   "cell_type": "code",
   "execution_count": 4,
   "metadata": {},
   "outputs": [],
   "source": [
    "# start with int and float\n",
    "int_columns = [col for col in X_train.columns if X_train[col].dtype == 'int64']\n",
    "float_columns = [col for col in X_train.columns if X_train[col].dtype == 'float64']\n",
    "\n",
    "# Combine both lists if you need columns of both types\n",
    "numeric_columns = int_columns + float_columns\n",
    "\n",
    "# get categorical columns\n",
    "categorical_columns = [col for col in X_train.columns if X_train[col].dtype == 'object']"
   ]
  },
  {
   "cell_type": "markdown",
   "metadata": {},
   "source": [
    "### Using C-Index as calssification metric"
   ]
  },
  {
   "cell_type": "markdown",
   "metadata": {},
   "source": [
    "## Implement Pipeline Objects\n",
    "`make_scorer()` - Create a scorer object<br>\n",
    "`ColumnTransformer()` - Create a column transformer object<br>\n",
    "`Pipeline()` - Create a pipeline object<br>\n",
    "`IterativeImputer()` - Impute missing values<br>\n",
    "`StandardScaler()` - Scale features<br>\n",
    "`SimpleImputer()` - Impute missing values<br>\n",
    "`OneHotEncoder()` - Encode categorical features<br>\n",
    "`LogisticRegression()` - Logistic Regression model<br>\n",
    "`RandomForestClassifier()` - Random Forest model<br>\n",
    "`XGBClassifier()` - XGBoost model<br>\n",
    "`GridSearchCV()` - Grid Search object<br>\n",
    "<br>\n",
    "## Param Grid Configurations\n",
    "\n",
    "```python\n",
    "'LogisticRegression': {'classifier__C': [0.1, 1, 10]},\n",
    "'RandomForest': {'classifier__n_estimators': [200, 300, 400],\n",
    "                'classifier__max_depth': [3, 5, 10]},\n",
    "'XGBoost': {'classifier__learning_rate': [0.01, 0.1, 0.3],\n",
    "                'classifier__n_estimators': [200, 300, 400]}\n",
    "```"
   ]
  },
  {
   "cell_type": "code",
   "execution_count": 5,
   "metadata": {},
   "outputs": [
    {
     "name": "stdout",
     "output_type": "stream",
     "text": [
      "Training LogisticRegression...\n",
      "LogisticRegression - Train Accuracy: 0.7800, Validation Accuracy: 0.7382\n",
      "Training RandomForest...\n",
      "RandomForest - Train Accuracy: 0.9820, Validation Accuracy: 0.8199\n",
      "Training XGBoost...\n",
      "XGBoost - Train Accuracy: 0.9405, Validation Accuracy: 0.8637\n",
      "\n",
      "Model: LogisticRegression\n",
      "\n",
      "Best Parameters: {'classifier__C': 0.1}\n",
      "\n",
      "\n",
      "Model: RandomForest\n",
      "\n",
      "Best Parameters: {'classifier__max_depth': 10, 'classifier__n_estimators': 300}\n",
      "\n",
      "\n",
      "Model: XGBoost\n",
      "\n",
      "Best Parameters: {'classifier__learning_rate': 0.01, 'classifier__n_estimators': 300}\n",
      "\n"
     ]
    }
   ],
   "source": [
    "import matplotlib.pyplot as plt\n",
    "import pandas as pd\n",
    "from sklearn.metrics import make_scorer\n",
    "\n",
    "from sklearn.experimental import enable_iterative_imputer\n",
    "from sklearn.impute import IterativeImputer, SimpleImputer\n",
    "import helper\n",
    "\n",
    "# Define the custom scoring function\n",
    "def cindex_scorer(y_true, y_pred):\n",
    "    return helper.cindex(y_true, y_pred)\n",
    "\n",
    "# Create a scorer object\n",
    "cindex = make_scorer(cindex_scorer, greater_is_better=True)\n",
    "\n",
    "# Instantiate the ColumnTransformer\n",
    "preprocessor = ColumnTransformer(\n",
    "    transformers=[\n",
    "        ('num', Pipeline(steps=[\n",
    "            ('imputer', IterativeImputer(max_iter=10, random_state=0)),\n",
    "            ('scaler', StandardScaler())\n",
    "        ]), numeric_columns),\n",
    "        ('cat', Pipeline(steps=[\n",
    "            ('imputer', SimpleImputer(strategy='constant', fill_value='missing')),\n",
    "            ('onehot', OneHotEncoder(handle_unknown='ignore'))\n",
    "        ]), categorical_columns)\n",
    "    ])\n",
    "\n",
    "# Define the classifiers\n",
    "classifiers = {\n",
    "    'LogisticRegression': LogisticRegression(),\n",
    "    'RandomForest': RandomForestClassifier(),\n",
    "    'XGBoost': xgb.XGBClassifier()\n",
    "}\n",
    "\n",
    "# Define pipelines for each classifier\n",
    "pipelines = {\n",
    "    name: Pipeline(steps=[('preprocessor', preprocessor),\n",
    "                          ('classifier', classifier)])\n",
    "    for name, classifier in classifiers.items()\n",
    "}\n",
    "\n",
    "# Define parameter grids for each classifier\n",
    "param_grids = {\n",
    "    'LogisticRegression': {'classifier__C': [0.1, 1, 10]},\n",
    "    'RandomForest': {'classifier__n_estimators': [200, 300, 400], \n",
    "                     'classifier__max_depth': [3, 5, 10]},\n",
    "    'XGBoost': {'classifier__learning_rate': [0.01, 0.1, 0.3],\n",
    "                'classifier__n_estimators': [200, 300, 400]}\n",
    "}\n",
    "\n",
    "\n",
    "# Initialize results storage\n",
    "results = []\n",
    "\n",
    "# Run GridSearchCV for each pipeline\n",
    "for name, pipeline in pipelines.items():\n",
    "    print(f\"Training {name}...\")\n",
    "    grid_search = GridSearchCV(pipeline, param_grids[name], cv=5, scoring=cindex, return_train_score=True)\n",
    "    grid_search.fit(X_train, y_train)\n",
    "    \n",
    "    best_model = grid_search.best_estimator_\n",
    "    y_train_pred = best_model.predict(X_train)\n",
    "    y_val_pred = best_model.predict(X_val)\n",
    "    \n",
    "    train_accuracy = helper.cindex(y_train, y_train_pred)\n",
    "    val_accuracy = helper.cindex(y_val, y_val_pred)\n",
    "    \n",
    "    print(f\"{name} - Train Accuracy: {train_accuracy:.4f}, Validation Accuracy: {val_accuracy:.4f}\")\n",
    "    \n",
    "    results.append({\n",
    "        'model': name,\n",
    "        'train_accuracy': train_accuracy,\n",
    "        'validation_accuracy': val_accuracy,\n",
    "        'best_params': grid_search.best_params_\n",
    "    })\n",
    "\n",
    "# Convert results to DataFrame\n",
    "results_df = pd.DataFrame(results)\n",
    "\n",
    "# Print the best parameters for each model\n",
    "for index, row in results_df.iterrows():\n",
    "    print()\n",
    "    print(f\"Model: {row['model']}\")\n",
    "    print()\n",
    "    print(f\"Best Parameters: {row['best_params']}\")\n",
    "    print()\n"
   ]
  },
  {
   "cell_type": "markdown",
   "metadata": {},
   "source": [
    "## Now Run the Models on the Unseen Test Data"
   ]
  },
  {
   "cell_type": "code",
   "execution_count": 6,
   "metadata": {},
   "outputs": [
    {
     "name": "stdout",
     "output_type": "stream",
     "text": [
      "LogisticRegression - Test Accuracy: 0.7112\n",
      "RandomForest - Test Accuracy: 0.8682\n",
      "XGBoost - Test Accuracy: 0.8854\n"
     ]
    }
   ],
   "source": [
    "# run the models on the best parameters and test accuracy on the test set and plot results\n",
    "results = []\n",
    "\n",
    "for name, pipeline in pipelines.items():\n",
    "    best_model = pipeline.set_params(**results_df[results_df['model'] == name]['best_params'].values[0])\n",
    "    best_model.fit(X_dev, y_dev)\n",
    "    \n",
    "    y_test_pred = best_model.predict(X_test)\n",
    "    test_accuracy = helper.cindex(y_test, y_test_pred)\n",
    "    \n",
    "    results.append({\n",
    "        'model': name,\n",
    "        'test_accuracy': test_accuracy\n",
    "    })\n",
    "\n",
    "    print(f\"{name} - Test Accuracy: {test_accuracy:.4f}\")\n",
    "\n",
    "# Convert results to DataFrame\n",
    "results_df = pd.DataFrame(results)\n",
    "\n",
    "    "
   ]
  },
  {
   "cell_type": "code",
   "execution_count": 8,
   "metadata": {},
   "outputs": [
    {
     "data": {
      "image/png": "[encoded data removed]",
      "text/plain": [
       "<Figure size 1000x600 with 1 Axes>"
      ]
     },
     "metadata": {},
     "output_type": "display_data"
    }
   ],
   "source": [
    "# plot the accuracy on the test set\n",
    "plt.figure(figsize=(10, 6))\n",
    "plt.bar(results_df['model'], results_df['test_accuracy'])\n",
    "plt.title('Test Accuracy')\n",
    "plt.xlabel('Model')\n",
    "plt.ylabel('C-Index')\n",
    "plt.axhline(y=0.8854, color='orange', linestyle='--')\n",
    "plt.show()\n"
   ]
  },
  {
   "cell_type": "code",
   "execution_count": 14,
   "metadata": {},
   "outputs": [
    {
     "name": "stdout",
     "output_type": "stream",
     "text": [
      "XGBoost - Test Accuracy: 0.8433\n"
     ]
    }
   ],
   "source": [
    "# create pipeline for XGBoost\n",
    "xgb_pipeline = Pipeline(steps=[('preprocessor', preprocessor),\n",
    "                               ('classifier', xgb.XGBClassifier(learning_rate=0.1, n_estimators=300))])\n",
    "\n",
    "# fit the pipeline on the development set\n",
    "xgb_pipeline.fit(X_train, y_train)\n",
    "\n",
    "# predict the test set\n",
    "y_test_pred = xgb_pipeline.predict(X_test)\n",
    "\n",
    "# calculate the accuracy on the test set\n",
    "test_accuracy = helper.cindex(y_test, y_test_pred)\n",
    "print(f\"XGBoost - Test Accuracy: {test_accuracy:.4f}\")\n"
   ]
  },
  {
   "cell_type": "code",
   "execution_count": 34,
   "metadata": {},
   "outputs": [
    {
     "name": "stdout",
     "output_type": "stream",
     "text": [
      "Sensitivity: 0.7786\n"
     ]
    },
    {
     "data": {
      "image/png": "[encoded data removed]",
      "text/plain": [
       "<Figure size 640x480 with 2 Axes>"
      ]
     },
     "metadata": {},
     "output_type": "display_data"
    }
   ],
   "source": [
    "# confusion matrix display\n",
    "from sklearn.metrics import confusion_matrix, ConfusionMatrixDisplay\n",
    "cm = confusion_matrix(y_test, y_test_pred)\n",
    "disp = ConfusionMatrixDisplay(confusion_matrix=cm, display_labels=xgb_pipeline.classes_)\n",
    "disp.plot();\n",
    "\n",
    "sensitivity = cm[1, 1] / (cm[1, 0] + cm[1, 1])\n",
    "print(f\"Sensitivity: {sensitivity:.4f}\")"
   ]
  },
  {
   "cell_type": "code",
   "execution_count": 23,
   "metadata": {},
   "outputs": [
    {
     "data": {
      "image/png": "[encoded data removed]",
      "text/plain": [
       "<Figure size 1000x800 with 1 Axes>"
      ]
     },
     "metadata": {},
     "output_type": "display_data"
    }
   ],
   "source": [
    "import matplotlib.pyplot as plt\n",
    "import xgboost as xgb\n",
    "\n",
    "# Assuming grid_auc.best_estimator_ is your trained XGBoost model\n",
    "model = xgb_pipeline.named_steps['classifier']\n",
    "\n",
    "# Ensure feature names are set\n",
    "feature_names = X_train.columns  # Assuming X_train is your training DataFrame\n",
    "\n",
    "# Get feature importances and round them\n",
    "importances = model.get_booster().get_score(importance_type='gain')\n",
    "\n",
    "# Ensure the feature names are correctly mapped\n",
    "importances_rounded = {}\n",
    "for k, v in importances.items():\n",
    "    index = int(k[1:])\n",
    "    if index < len(feature_names):\n",
    "        importances_rounded[feature_names[index]] = round(v, 2)\n",
    "\n",
    "# Sort features by importance\n",
    "sorted_importances = sorted(importances_rounded.items(), key=lambda x: x[1], reverse=True)[:19]\n",
    "\n",
    "# Separate keys and values for plotting\n",
    "features, scores = zip(*sorted_importances)\n",
    "\n",
    "# Plot\n",
    "plt.figure(figsize=(10, 8))\n",
    "plt.barh(range(len(scores)), scores, color='lightgreen')\n",
    "plt.yticks(range(len(scores)), features)\n",
    "plt.xlabel('F Score')\n",
    "plt.ylabel('Features')\n",
    "# annotate the values over the bars\n",
    "for i, v in enumerate(scores):\n",
    "    plt.text(v + 0.1, i - 0.1, str(v), color='black', va='center')\n",
    "plt.title(f'Feature Importance - Gain', fontsize=16)\n",
    "plt.gca().invert_yaxis()  # Invert y-axis to have the most important feature on top\n",
    "# remove borders\n",
    "plt.gca().spines['top'].set_visible(False)\n",
    "plt.gca().spines['right'].set_visible(False)\n",
    "plt.gca().spines['left'].set_visible(False)\n",
    "plt.gca().spines['bottom'].set_visible(False)\n",
    "plt.show()"
   ]
  },
  {
   "cell_type": "code",
   "execution_count": 29,
   "metadata": {},
   "outputs": [
    {
     "name": "stdout",
     "output_type": "stream",
     "text": [
      "Training set: (882, 19) (882,)\n",
      "Validation set: (221, 19) (221,)\n",
      "Test set: (218, 19) (218,)\n"
     ]
    }
   ],
   "source": [
    "# get the names of the top 20 features\n",
    "top_features = [feature for feature, score in sorted_importances]\n",
    "\n",
    "new_x, new_y = data[top_features], data['dropout']\n",
    "\n",
    "# split the data to traininig, validation\n",
    "X_dev, X_test, y_dev, y_test = train_test_split(new_x, new_y, test_size=0.165, random_state=0)\n",
    "\n",
    "# split the development set to training and validation sets\n",
    "X_train, X_val, y_train, y_val = train_test_split(X_dev, y_dev, test_size=0.20, random_state=0)\n",
    "\n",
    "# print the shape for each dataset\n",
    "print('Training set:', X_train.shape, y_train.shape)\n",
    "print('Validation set:', X_val.shape, y_val.shape)\n",
    "print('Test set:', X_test.shape, y_test.shape)"
   ]
  },
  {
   "cell_type": "code",
   "execution_count": 31,
   "metadata": {},
   "outputs": [
    {
     "name": "stdout",
     "output_type": "stream",
     "text": [
      "XGBoost - Test Accuracy: 0.8261\n"
     ]
    }
   ],
   "source": [
    "# preprocessor for the new data\n",
    "numeric_columns = [col for col in X_train.columns if X_train[col].dtype != 'object']\n",
    "categorical_columns = [col for col in X_train.columns if X_train[col].dtype == 'object']\n",
    "\n",
    "preprocessor = ColumnTransformer(\n",
    "    transformers=[\n",
    "        ('num', Pipeline(steps=[\n",
    "            ('imputer', IterativeImputer(max_iter=10, random_state=0)),\n",
    "            ('scaler', StandardScaler())\n",
    "        ]), numeric_columns),\n",
    "        ('cat', Pipeline(steps=[\n",
    "            ('imputer', SimpleImputer(strategy='constant', fill_value='missing')),\n",
    "            ('onehot', OneHotEncoder(handle_unknown='ignore'))\n",
    "        ]), categorical_columns)\n",
    "    ])\n",
    "\n",
    "# create the pipeline for XGBoost   \n",
    "xgb_pipeline = Pipeline(steps=[('preprocessor', preprocessor),\n",
    "                               ('classifier', xgb.XGBClassifier(learning_rate=0.1, n_estimators=300))])\n",
    "\n",
    "# fit the pipeline on the development set\n",
    "xgb_pipeline.fit(X_train, y_train)\n",
    "\n",
    "# predict the test set\n",
    "y_test_pred = xgb_pipeline.predict(X_test)\n",
    "\n",
    "# calculate the accuracy on the test set\n",
    "test_accuracy = helper.cindex(y_test, y_test_pred)\n",
    "print(f\"XGBoost - Test Accuracy: {test_accuracy:.4f}\")\n"
   ]
  }
 ],
 "metadata": {
  "kernelspec": {
   "display_name": "dev",
   "language": "python",
   "name": "python3"
  },
  "language_info": {
   "codemirror_mode": {
    "name": "ipython",
    "version": 3
   },
   "file_extension": ".py",
   "mimetype": "text/x-python",
   "name": "python",
   "nbconvert_exporter": "python",
   "pygments_lexer": "ipython3",
   "version": "3.11.8"
  }
 },
 "nbformat": 4,
 "nbformat_minor": 2
}
