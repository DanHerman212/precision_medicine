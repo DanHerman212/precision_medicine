{
 "cells": [
  {
   "cell_type": "markdown",
   "metadata": {},
   "source": [
    "## For this notebook, we will programmatically review features for accuracy\n",
    "This notebook contains a workflow:\n",
    "- Start with features captured as part of baseline assessment\n",
    "- Programmatically add new features, representing tests and surveys from the different drug classes\n",
    "<br>\n",
    "There are 99 baseline features and 56 optional features to test for prediction value<br>\n",
    "We will capture the top 16 features from the surveys and tests, in terms of best accuracy on the test set<br>"
   ]
  },
  {
   "cell_type": "code",
   "execution_count": 50,
   "metadata": {},
   "outputs": [],
   "source": [
    "import pandas as pd\n",
    "import numpy as np\n",
    "import matplotlib.pyplot as plt\n",
    "import seaborn as sns\n",
    "from IPython.display import display,Markdown\n",
    "\n",
    "# Load the data\n",
    "data = pd.read_csv('../data/all_features.csv')\n",
    "new_features = pd.read_csv('../data/new_features.csv')\n",
    "baseline_features = pd.read_csv('../data/baseline_features.csv')\n",
    "del baseline_features['dropout'] # remove the target column"
   ]
  },
  {
   "cell_type": "code",
   "execution_count": 38,
   "metadata": {},
   "outputs": [],
   "source": [
    "X_features = baseline_features.columns\n",
    "Y_labels = 'dropout'\n",
    "new_features = new_features.columns\n"
   ]
  },
  {
   "cell_type": "code",
   "execution_count": 39,
   "metadata": {},
   "outputs": [],
   "source": [
    "import xgboost as xgb\n",
    "from sklearn.model_selection import train_test_split, GridSearchCV\n",
    "from sklearn.metrics import accuracy_score\n",
    "\n",
    "# Assuming data is your DataFrame, and X_features, Y_labels, new_features are your lists\n",
    "\n",
    "def evaluate_model_with_features(X_features, Y_labels, new_features, data):\n",
    "\tresults = []\n",
    "\tX = data[X_features]\n",
    "\tY = data[Y_labels]\n",
    "\t\n",
    "\t# Split data into training and testing sets\n",
    "\tX_train, X_test, Y_train, Y_test = train_test_split(X, Y, test_size=0.2, random_state=42)\n",
    "\t\n",
    "\tfor feature in new_features:\n",
    "\t\t# Add the new feature to X\n",
    "\t\tX_train_expanded = X_train.copy()\n",
    "\t\tX_test_expanded = X_test.copy()\n",
    "\t\tX_train_expanded[feature] = data[feature][:len(X_train)]\n",
    "\t\tX_test_expanded[feature] = data[feature][-len(X_test):]\n",
    "\t\t\n",
    "\t\t# Define the model and grid search parameters\n",
    "\t\tmodel = xgb.XGBClassifier(use_label_encoder=False)\n",
    "\t\tparameters = {'max_depth': [3, 5, 7], 'n_estimators': [50, 100, 200]}\n",
    "\t\tgrid_search = GridSearchCV(model, parameters, cv=5, scoring='f1')\n",
    "\t\t\n",
    "\t\t# Perform grid search and train the model\n",
    "\t\tgrid_search.fit(X_train_expanded, Y_train)\n",
    "\t\tbest_model = grid_search.best_estimator_\n",
    "\t\t\n",
    "\t\t# Evaluate the model\n",
    "\t\tY_train_pred = best_model.predict(X_train_expanded)\n",
    "\t\tY_test_pred = best_model.predict(X_test_expanded)\n",
    "\t\ttrain_accuracy = accuracy_score(Y_train, Y_train_pred)\n",
    "\t\ttest_accuracy = accuracy_score(Y_test, Y_test_pred)\n",
    "\t\t\n",
    "\t\t# Record the results\n",
    "\t\tresults.append({'feature': feature, 'train_accuracy': train_accuracy, 'test_accuracy': test_accuracy})\n",
    "\t\n",
    "\treturn results\n"
   ]
  },
  {
   "cell_type": "code",
   "execution_count": 40,
   "metadata": {},
   "outputs": [
    {
     "data": {
      "text/plain": [
       "[{'feature': 'test_Propoxyphene_0',\n",
       "  'train_accuracy': 0.9642276422764228,\n",
       "  'test_accuracy': 0.6493506493506493},\n",
       " {'feature': 'test_Amphetamines_0',\n",
       "  'train_accuracy': 1.0,\n",
       "  'test_accuracy': 0.6493506493506493},\n",
       " {'feature': 'test_Cannabinoids_0',\n",
       "  'train_accuracy': 0.9967479674796748,\n",
       "  'test_accuracy': 0.6363636363636364},\n",
       " {'feature': 'test_Benzodiazepines_0',\n",
       "  'train_accuracy': 1.0,\n",
       "  'test_accuracy': 0.6428571428571429},\n",
       " {'feature': 'test_MMethadone_0',\n",
       "  'train_accuracy': 0.9934959349593496,\n",
       "  'test_accuracy': 0.6298701298701299},\n",
       " {'feature': 'test_Oxycodone_0',\n",
       "  'train_accuracy': 1.0,\n",
       "  'test_accuracy': 0.6363636363636364},\n",
       " {'feature': 'test_Cocaine_0',\n",
       "  'train_accuracy': 1.0,\n",
       "  'test_accuracy': 0.6168831168831169},\n",
       " {'feature': 'test_Methamphetamine_0',\n",
       "  'train_accuracy': 1.0,\n",
       "  'test_accuracy': 0.6363636363636364},\n",
       " {'feature': 'test_Propoxyphene_1',\n",
       "  'train_accuracy': 1.0,\n",
       "  'test_accuracy': 0.6558441558441559},\n",
       " {'feature': 'test_Amphetamines_1',\n",
       "  'train_accuracy': 0.9495934959349593,\n",
       "  'test_accuracy': 0.6623376623376623},\n",
       " {'feature': 'test_Cannabinoids_1',\n",
       "  'train_accuracy': 0.9626016260162602,\n",
       "  'test_accuracy': 0.6233766233766234},\n",
       " {'feature': 'test_Benzodiazepines_1',\n",
       "  'train_accuracy': 0.967479674796748,\n",
       "  'test_accuracy': 0.6363636363636364},\n",
       " {'feature': 'test_MMethadone_1',\n",
       "  'train_accuracy': 1.0,\n",
       "  'test_accuracy': 0.6233766233766234},\n",
       " {'feature': 'test_Oxycodone_1',\n",
       "  'train_accuracy': 1.0,\n",
       "  'test_accuracy': 0.6233766233766234},\n",
       " {'feature': 'test_Cocaine_1',\n",
       "  'train_accuracy': 0.9577235772357724,\n",
       "  'test_accuracy': 0.6428571428571429},\n",
       " {'feature': 'test_Methamphetamine_1',\n",
       "  'train_accuracy': 0.991869918699187,\n",
       "  'test_accuracy': 0.6363636363636364},\n",
       " {'feature': 'test_Propoxyphene_2',\n",
       "  'train_accuracy': 1.0,\n",
       "  'test_accuracy': 0.6753246753246753},\n",
       " {'feature': 'test_Amphetamines_2',\n",
       "  'train_accuracy': 0.9577235772357724,\n",
       "  'test_accuracy': 0.6558441558441559},\n",
       " {'feature': 'test_Cannabinoids_2',\n",
       "  'train_accuracy': 0.959349593495935,\n",
       "  'test_accuracy': 0.6428571428571429},\n",
       " {'feature': 'test_Benzodiazepines_2',\n",
       "  'train_accuracy': 0.959349593495935,\n",
       "  'test_accuracy': 0.6558441558441559},\n",
       " {'feature': 'test_MMethadone_2',\n",
       "  'train_accuracy': 0.9934959349593496,\n",
       "  'test_accuracy': 0.6428571428571429},\n",
       " {'feature': 'test_Oxycodone_2',\n",
       "  'train_accuracy': 1.0,\n",
       "  'test_accuracy': 0.6298701298701299},\n",
       " {'feature': 'test_Cocaine_2',\n",
       "  'train_accuracy': 0.959349593495935,\n",
       "  'test_accuracy': 0.6298701298701299},\n",
       " {'feature': 'test_Methamphetamine_2',\n",
       "  'train_accuracy': 0.9528455284552846,\n",
       "  'test_accuracy': 0.6753246753246753},\n",
       " {'feature': 'test_Propoxyphene_3',\n",
       "  'train_accuracy': 0.9626016260162602,\n",
       "  'test_accuracy': 0.6428571428571429},\n",
       " {'feature': 'test_Amphetamines_3',\n",
       "  'train_accuracy': 1.0,\n",
       "  'test_accuracy': 0.6363636363636364},\n",
       " {'feature': 'test_Cannabinoids_3',\n",
       "  'train_accuracy': 0.9967479674796748,\n",
       "  'test_accuracy': 0.6233766233766234},\n",
       " {'feature': 'test_Benzodiazepines_3',\n",
       "  'train_accuracy': 0.9544715447154472,\n",
       "  'test_accuracy': 0.6493506493506493},\n",
       " {'feature': 'test_MMethadone_3',\n",
       "  'train_accuracy': 0.9609756097560975,\n",
       "  'test_accuracy': 0.6298701298701299},\n",
       " {'feature': 'test_Oxycodone_3',\n",
       "  'train_accuracy': 0.9951219512195122,\n",
       "  'test_accuracy': 0.6103896103896104},\n",
       " {'feature': 'test_Cocaine_3',\n",
       "  'train_accuracy': 0.9577235772357724,\n",
       "  'test_accuracy': 0.6428571428571429},\n",
       " {'feature': 'test_Methamphetamine_3',\n",
       "  'train_accuracy': 0.9934959349593496,\n",
       "  'test_accuracy': 0.6558441558441559},\n",
       " {'feature': 'test_Propoxyphene_4',\n",
       "  'train_accuracy': 0.9951219512195122,\n",
       "  'test_accuracy': 0.6428571428571429},\n",
       " {'feature': 'test_Amphetamines_4',\n",
       "  'train_accuracy': 1.0,\n",
       "  'test_accuracy': 0.6688311688311688},\n",
       " {'feature': 'test_Cannabinoids_4',\n",
       "  'train_accuracy': 1.0,\n",
       "  'test_accuracy': 0.6688311688311688},\n",
       " {'feature': 'test_Benzodiazepines_4',\n",
       "  'train_accuracy': 1.0,\n",
       "  'test_accuracy': 0.6428571428571429},\n",
       " {'feature': 'test_MMethadone_4',\n",
       "  'train_accuracy': 0.991869918699187,\n",
       "  'test_accuracy': 0.6558441558441559},\n",
       " {'feature': 'test_Oxycodone_4',\n",
       "  'train_accuracy': 1.0,\n",
       "  'test_accuracy': 0.6363636363636364},\n",
       " {'feature': 'test_Cocaine_4',\n",
       "  'train_accuracy': 1.0,\n",
       "  'test_accuracy': 0.6363636363636364},\n",
       " {'feature': 'test_Methamphetamine_4',\n",
       "  'train_accuracy': 0.9609756097560975,\n",
       "  'test_accuracy': 0.6298701298701299},\n",
       " {'feature': 'survey_cannabis_0',\n",
       "  'train_accuracy': 0.9967479674796748,\n",
       "  'test_accuracy': 0.6363636363636364},\n",
       " {'feature': 'survey_cocaine_0',\n",
       "  'train_accuracy': 1.0,\n",
       "  'test_accuracy': 0.6233766233766234},\n",
       " {'feature': 'survey_alcohol_0',\n",
       "  'train_accuracy': 0.9626016260162602,\n",
       "  'test_accuracy': 0.6298701298701299},\n",
       " {'feature': 'survey_oxycodone_0',\n",
       "  'train_accuracy': 1.0,\n",
       "  'test_accuracy': 0.6428571428571429},\n",
       " {'feature': 'survey_mmethadone_0',\n",
       "  'train_accuracy': 1.0,\n",
       "  'test_accuracy': 0.6428571428571429},\n",
       " {'feature': 'survey_amphetamine_0',\n",
       "  'train_accuracy': 1.0,\n",
       "  'test_accuracy': 0.6688311688311688},\n",
       " {'feature': 'survey_methamphetamine_0',\n",
       "  'train_accuracy': 0.9544715447154472,\n",
       "  'test_accuracy': 0.6233766233766234},\n",
       " {'feature': 'survey_benzodiazepines_0',\n",
       "  'train_accuracy': 0.9626016260162602,\n",
       "  'test_accuracy': 0.6363636363636364},\n",
       " {'feature': 'survey_cannabis_4',\n",
       "  'train_accuracy': 0.959349593495935,\n",
       "  'test_accuracy': 0.6428571428571429},\n",
       " {'feature': 'survey_cocaine_4',\n",
       "  'train_accuracy': 0.9577235772357724,\n",
       "  'test_accuracy': 0.6363636363636364},\n",
       " {'feature': 'survey_alcohol_4',\n",
       "  'train_accuracy': 1.0,\n",
       "  'test_accuracy': 0.6233766233766234},\n",
       " {'feature': 'survey_oxycodone_4',\n",
       "  'train_accuracy': 1.0,\n",
       "  'test_accuracy': 0.6363636363636364},\n",
       " {'feature': 'survey_mmethadone_4',\n",
       "  'train_accuracy': 1.0,\n",
       "  'test_accuracy': 0.6428571428571429},\n",
       " {'feature': 'survey_amphetamine_4',\n",
       "  'train_accuracy': 0.959349593495935,\n",
       "  'test_accuracy': 0.6428571428571429},\n",
       " {'feature': 'survey_methamphetamine_4',\n",
       "  'train_accuracy': 1.0,\n",
       "  'test_accuracy': 0.6363636363636364},\n",
       " {'feature': 'survey_benzodiazepines_4',\n",
       "  'train_accuracy': 1.0,\n",
       "  'test_accuracy': 0.6428571428571429}]"
      ]
     },
     "execution_count": 40,
     "metadata": {},
     "output_type": "execute_result"
    }
   ],
   "source": [
    "results = evaluate_model_with_features(X_features, Y_labels, new_features, data)\n",
    "\n",
    "results"
   ]
  },
  {
   "cell_type": "code",
   "execution_count": 43,
   "metadata": {},
   "outputs": [],
   "source": [
    "# format the results dict into a pandas DataFrame\n",
    "results_df = pd.DataFrame(results)\n",
    "\n",
    "results_df = results_df.sort_values(by='test_accuracy', ascending=False)"
   ]
  },
  {
   "cell_type": "code",
   "execution_count": 54,
   "metadata": {},
   "outputs": [
    {
     "data": {
      "text/markdown": [
       "|    | feature             |   train_accuracy |   test_accuracy |\n",
       "|---:|:--------------------|-----------------:|----------------:|\n",
       "| 16 | test_Propoxyphene_2 |         1        |        0.675325 |\n",
       "|  8 | test_Propoxyphene_1 |         1        |        0.655844 |\n",
       "|  0 | test_Propoxyphene_0 |         0.964228 |        0.649351 |\n",
       "| 24 | test_Propoxyphene_3 |         0.962602 |        0.642857 |\n",
       "| 32 | test_Propoxyphene_4 |         0.995122 |        0.642857 |"
      ],
      "text/plain": [
       "<IPython.core.display.Markdown object>"
      ]
     },
     "metadata": {},
     "output_type": "display_data"
    },
    {
     "data": {
      "text/markdown": [
       "|    | feature             |   train_accuracy |   test_accuracy |\n",
       "|---:|:--------------------|-----------------:|----------------:|\n",
       "| 33 | test_Amphetamines_4 |         1        |        0.668831 |\n",
       "|  9 | test_Amphetamines_1 |         0.949593 |        0.662338 |\n",
       "| 17 | test_Amphetamines_2 |         0.957724 |        0.655844 |\n",
       "|  1 | test_Amphetamines_0 |         1        |        0.649351 |\n",
       "| 25 | test_Amphetamines_3 |         1        |        0.636364 |"
      ],
      "text/plain": [
       "<IPython.core.display.Markdown object>"
      ]
     },
     "metadata": {},
     "output_type": "display_data"
    },
    {
     "data": {
      "text/markdown": [
       "|    | feature             |   train_accuracy |   test_accuracy |\n",
       "|---:|:--------------------|-----------------:|----------------:|\n",
       "| 34 | test_Cannabinoids_4 |         1        |        0.668831 |\n",
       "| 18 | test_Cannabinoids_2 |         0.95935  |        0.642857 |\n",
       "|  2 | test_Cannabinoids_0 |         0.996748 |        0.636364 |\n",
       "| 10 | test_Cannabinoids_1 |         0.962602 |        0.623377 |\n",
       "| 26 | test_Cannabinoids_3 |         0.996748 |        0.623377 |"
      ],
      "text/plain": [
       "<IPython.core.display.Markdown object>"
      ]
     },
     "metadata": {},
     "output_type": "display_data"
    },
    {
     "data": {
      "text/markdown": [
       "|    | feature                |   train_accuracy |   test_accuracy |\n",
       "|---:|:-----------------------|-----------------:|----------------:|\n",
       "| 19 | test_Benzodiazepines_2 |         0.95935  |        0.655844 |\n",
       "| 27 | test_Benzodiazepines_3 |         0.954472 |        0.649351 |\n",
       "|  3 | test_Benzodiazepines_0 |         1        |        0.642857 |\n",
       "| 35 | test_Benzodiazepines_4 |         1        |        0.642857 |\n",
       "| 11 | test_Benzodiazepines_1 |         0.96748  |        0.636364 |"
      ],
      "text/plain": [
       "<IPython.core.display.Markdown object>"
      ]
     },
     "metadata": {},
     "output_type": "display_data"
    },
    {
     "data": {
      "text/markdown": [
       "|    | feature           |   train_accuracy |   test_accuracy |\n",
       "|---:|:------------------|-----------------:|----------------:|\n",
       "| 36 | test_MMethadone_4 |         0.99187  |        0.655844 |\n",
       "| 20 | test_MMethadone_2 |         0.993496 |        0.642857 |\n",
       "|  4 | test_MMethadone_0 |         0.993496 |        0.62987  |\n",
       "| 28 | test_MMethadone_3 |         0.960976 |        0.62987  |\n",
       "| 12 | test_MMethadone_1 |         1        |        0.623377 |"
      ],
      "text/plain": [
       "<IPython.core.display.Markdown object>"
      ]
     },
     "metadata": {},
     "output_type": "display_data"
    },
    {
     "data": {
      "text/markdown": [
       "|    | feature          |   train_accuracy |   test_accuracy |\n",
       "|---:|:-----------------|-----------------:|----------------:|\n",
       "|  5 | test_Oxycodone_0 |         1        |        0.636364 |\n",
       "| 37 | test_Oxycodone_4 |         1        |        0.636364 |\n",
       "| 21 | test_Oxycodone_2 |         1        |        0.62987  |\n",
       "| 13 | test_Oxycodone_1 |         1        |        0.623377 |\n",
       "| 29 | test_Oxycodone_3 |         0.995122 |        0.61039  |"
      ],
      "text/plain": [
       "<IPython.core.display.Markdown object>"
      ]
     },
     "metadata": {},
     "output_type": "display_data"
    },
    {
     "data": {
      "text/markdown": [
       "|    | feature        |   train_accuracy |   test_accuracy |\n",
       "|---:|:---------------|-----------------:|----------------:|\n",
       "| 14 | test_Cocaine_1 |         0.957724 |        0.642857 |\n",
       "| 30 | test_Cocaine_3 |         0.957724 |        0.642857 |\n",
       "| 38 | test_Cocaine_4 |         1        |        0.636364 |\n",
       "| 22 | test_Cocaine_2 |         0.95935  |        0.62987  |\n",
       "|  6 | test_Cocaine_0 |         1        |        0.616883 |"
      ],
      "text/plain": [
       "<IPython.core.display.Markdown object>"
      ]
     },
     "metadata": {},
     "output_type": "display_data"
    },
    {
     "data": {
      "text/markdown": [
       "|    | feature                |   train_accuracy |   test_accuracy |\n",
       "|---:|:-----------------------|-----------------:|----------------:|\n",
       "| 23 | test_Methamphetamine_2 |         0.952846 |        0.675325 |\n",
       "| 31 | test_Methamphetamine_3 |         0.993496 |        0.655844 |\n",
       "|  7 | test_Methamphetamine_0 |         1        |        0.636364 |\n",
       "| 15 | test_Methamphetamine_1 |         0.99187  |        0.636364 |\n",
       "| 39 | test_Methamphetamine_4 |         0.960976 |        0.62987  |"
      ],
      "text/plain": [
       "<IPython.core.display.Markdown object>"
      ]
     },
     "metadata": {},
     "output_type": "display_data"
    },
    {
     "data": {
      "text/markdown": [
       "| feature   | train_accuracy   | test_accuracy   |\n",
       "|-----------|------------------|-----------------|"
      ],
      "text/plain": [
       "<IPython.core.display.Markdown object>"
      ]
     },
     "metadata": {},
     "output_type": "display_data"
    }
   ],
   "source": [
    "test_names = [\n",
    " 'Propoxyphene',\n",
    " 'Amphetamines',\n",
    " 'Cannabinoids',\n",
    " 'Benzodiazepines',\n",
    " 'MMethadone',\n",
    " 'Oxycodone',\n",
    " 'Cocaine',\n",
    " 'Methamphetamine',\n",
    " 'Opiate300'\n",
    " ]\n",
    "for test in test_names:\n",
    "    globals()[test] = results_df[results_df['feature'].str.contains('test_'+test)].sort_index().sort_values('test_accuracy', ascending=False)\n",
    "    # convert output of globals to markdown and display in ipython\n",
    "    display(Markdown(globals()[test].to_markdown()))\n",
    "    "
   ]
  },
  {
   "cell_type": "code",
   "execution_count": 63,
   "metadata": {},
   "outputs": [],
   "source": [
    "import pandas as pd\n",
    "\n",
    "# Assuming results_df and test_names are defined as per your previous context\n",
    "\n",
    "# Step 1: Initialize an empty list to store the first row of each DataFrame\n",
    "first_rows = []\n",
    "\n",
    "# Step 2: Iterate through the test names\n",
    "for test in test_names:\n",
    "\t# Assuming each DataFrame is stored in globals() as per your code snippet\n",
    "\tdf = globals()[test]\n",
    "\tif not df.empty:\n",
    "\t\t# Step 3: Append the first row to the list\n",
    "\t\tfirst_rows.append(df.iloc[0])\n",
    "\n",
    "# Step 4: Create a new DataFrame from the list of first rows\n",
    "new_df = pd.concat(first_rows, axis=1).transpose()\n",
    "\n",
    "# Display the new DataFrame\n",
    "top_tests = new_df"
   ]
  },
  {
   "cell_type": "code",
   "execution_count": 64,
   "metadata": {},
   "outputs": [
    {
     "data": {
      "text/markdown": [
       "|    | feature           |   train_accuracy |   test_accuracy |\n",
       "|---:|:------------------|-----------------:|----------------:|\n",
       "| 48 | survey_cannabis_4 |         0.95935  |        0.642857 |\n",
       "| 40 | survey_cannabis_0 |         0.996748 |        0.636364 |"
      ],
      "text/plain": [
       "<IPython.core.display.Markdown object>"
      ]
     },
     "metadata": {},
     "output_type": "display_data"
    },
    {
     "data": {
      "text/markdown": [
       "|    | feature          |   train_accuracy |   test_accuracy |\n",
       "|---:|:-----------------|-----------------:|----------------:|\n",
       "| 49 | survey_cocaine_4 |         0.957724 |        0.636364 |\n",
       "| 41 | survey_cocaine_0 |         1        |        0.623377 |"
      ],
      "text/plain": [
       "<IPython.core.display.Markdown object>"
      ]
     },
     "metadata": {},
     "output_type": "display_data"
    },
    {
     "data": {
      "text/markdown": [
       "|    | feature          |   train_accuracy |   test_accuracy |\n",
       "|---:|:-----------------|-----------------:|----------------:|\n",
       "| 42 | survey_alcohol_0 |         0.962602 |        0.62987  |\n",
       "| 50 | survey_alcohol_4 |         1        |        0.623377 |"
      ],
      "text/plain": [
       "<IPython.core.display.Markdown object>"
      ]
     },
     "metadata": {},
     "output_type": "display_data"
    },
    {
     "data": {
      "text/markdown": [
       "|    | feature            |   train_accuracy |   test_accuracy |\n",
       "|---:|:-------------------|-----------------:|----------------:|\n",
       "| 43 | survey_oxycodone_0 |                1 |        0.642857 |\n",
       "| 51 | survey_oxycodone_4 |                1 |        0.636364 |"
      ],
      "text/plain": [
       "<IPython.core.display.Markdown object>"
      ]
     },
     "metadata": {},
     "output_type": "display_data"
    },
    {
     "data": {
      "text/markdown": [
       "|    | feature             |   train_accuracy |   test_accuracy |\n",
       "|---:|:--------------------|-----------------:|----------------:|\n",
       "| 44 | survey_mmethadone_0 |                1 |        0.642857 |\n",
       "| 52 | survey_mmethadone_4 |                1 |        0.642857 |"
      ],
      "text/plain": [
       "<IPython.core.display.Markdown object>"
      ]
     },
     "metadata": {},
     "output_type": "display_data"
    },
    {
     "data": {
      "text/markdown": [
       "|    | feature                  |   train_accuracy |   test_accuracy |\n",
       "|---:|:-------------------------|-----------------:|----------------:|\n",
       "| 23 | test_Methamphetamine_2   |         0.952846 |        0.675325 |\n",
       "| 45 | survey_amphetamine_0     |         1        |        0.668831 |\n",
       "| 31 | test_Methamphetamine_3   |         0.993496 |        0.655844 |\n",
       "| 53 | survey_amphetamine_4     |         0.95935  |        0.642857 |\n",
       "|  7 | test_Methamphetamine_0   |         1        |        0.636364 |\n",
       "| 15 | test_Methamphetamine_1   |         0.99187  |        0.636364 |\n",
       "| 54 | survey_methamphetamine_4 |         1        |        0.636364 |\n",
       "| 39 | test_Methamphetamine_4   |         0.960976 |        0.62987  |\n",
       "| 46 | survey_methamphetamine_0 |         0.954472 |        0.623377 |"
      ],
      "text/plain": [
       "<IPython.core.display.Markdown object>"
      ]
     },
     "metadata": {},
     "output_type": "display_data"
    },
    {
     "data": {
      "text/markdown": [
       "|    | feature                  |   train_accuracy |   test_accuracy |\n",
       "|---:|:-------------------------|-----------------:|----------------:|\n",
       "| 54 | survey_methamphetamine_4 |         1        |        0.636364 |\n",
       "| 46 | survey_methamphetamine_0 |         0.954472 |        0.623377 |"
      ],
      "text/plain": [
       "<IPython.core.display.Markdown object>"
      ]
     },
     "metadata": {},
     "output_type": "display_data"
    },
    {
     "data": {
      "text/markdown": [
       "| feature   | train_accuracy   | test_accuracy   |\n",
       "|-----------|------------------|-----------------|"
      ],
      "text/plain": [
       "<IPython.core.display.Markdown object>"
      ]
     },
     "metadata": {},
     "output_type": "display_data"
    },
    {
     "data": {
      "text/markdown": [
       "|    | feature                  |   train_accuracy |   test_accuracy |\n",
       "|---:|:-------------------------|-----------------:|----------------:|\n",
       "| 55 | survey_benzodiazepines_4 |         1        |        0.642857 |\n",
       "| 47 | survey_benzodiazepines_0 |         0.962602 |        0.636364 |"
      ],
      "text/plain": [
       "<IPython.core.display.Markdown object>"
      ]
     },
     "metadata": {},
     "output_type": "display_data"
    }
   ],
   "source": [
    "survey_names = [\n",
    "'cannabis',\n",
    "'cocaine',\n",
    "'alcohol',\n",
    "'oxycodone',\n",
    "'mmethadone',\n",
    "'amphetamine',\n",
    "'methamphetamine',\n",
    "'opiates',\n",
    "'benzodiazepines'\n",
    "]\n",
    "\n",
    "for survey in survey_names:\n",
    "    globals()[survey] = results_df[results_df['feature'].str.contains(survey)].sort_index().sort_values('test_accuracy', ascending=False)\n",
    "    # convert output of globals to markdown and display in ipython\n",
    "    display(Markdown(globals()[survey].to_markdown()))"
   ]
  },
  {
   "cell_type": "code",
   "execution_count": 65,
   "metadata": {},
   "outputs": [],
   "source": [
    "import pandas as pd\n",
    "\n",
    "# Assuming results_df and test_names are defined as per your previous context\n",
    "\n",
    "# Step 1: Initialize an empty list to store the first row of each DataFrame\n",
    "first_rows = []\n",
    "\n",
    "# Step 2: Iterate through the test names\n",
    "for survey in survey_names:\n",
    "\t# Assuming each DataFrame is stored in globals() as per your code snippet\n",
    "\tdf = globals()[survey]\n",
    "\tif not df.empty:\n",
    "\t\t# Step 3: Append the first row to the list\n",
    "\t\tfirst_rows.append(df.iloc[0])\n",
    "\n",
    "# Step 4: Create a new DataFrame from the list of first rows\n",
    "new_df = pd.concat(first_rows, axis=1).transpose()\n",
    "\n",
    "# Display the new DataFrame\n",
    "top_surveys = new_df"
   ]
  },
  {
   "cell_type": "code",
   "execution_count": 70,
   "metadata": {},
   "outputs": [
    {
     "data": {
      "text/plain": [
       "(16, 3)"
      ]
     },
     "execution_count": 70,
     "metadata": {},
     "output_type": "execute_result"
    }
   ],
   "source": [
    "# concat the top_surveys and top_tests\n",
    "top_features = pd.concat([top_surveys, top_tests])\n",
    "\n",
    "top_features = top_features.sort_index()\n",
    "\n",
    "top_features.to_csv('../data/top_features.csv', index=False)\n",
    "\n",
    "top_features.shape"
   ]
  }
 ],
 "metadata": {
  "kernelspec": {
   "display_name": "dev",
   "language": "python",
   "name": "python3"
  },
  "language_info": {
   "codemirror_mode": {
    "name": "ipython",
    "version": 3
   },
   "file_extension": ".py",
   "mimetype": "text/x-python",
   "name": "python",
   "nbconvert_exporter": "python",
   "pygments_lexer": "ipython3",
   "version": "3.11.8"
  }
 },
 "nbformat": 4,
 "nbformat_minor": 2
}
