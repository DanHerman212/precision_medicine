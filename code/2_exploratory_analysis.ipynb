{
 "cells": [
  {
   "cell_type": "markdown",
   "metadata": {},
   "source": [
    "# Descriptive Statistics and Data Visualization\n",
    "This notebook covers exploratory analysis for 430 features<br>\n",
    "coming from 9 different categories of clinical data<br>\n",
    "The analysis will include three steps:<br>\n",
    "1. Extract Descriptive Statistics for each feature\n",
    "2. Visualize the distribution \n",
    "3. Brief Summary of Findings\n",
    "\n",
    "<br>\n",
    "\n",
    "| Table Name |variable prefix|columns |DType |Description | \n",
    "| :--- | :--- | :--- | :--- | :--- |\n",
    "| Research Session Attendance|rsa_|25 |Binary|Records attendence for each week of treatment | \n",
    "| Demographics|dem_|10 |Categorical|Sex, Ethnicity, Race | \n",
    "| Urine Drug Screen| test_|225|Binary  |Drug test for 8 different drug classes, taken weekly for 24 weeks | \n",
    "| DSM-IV Diagnosis|dsm_|6|Categorical |Tracks clinical diagnosis for substance use disorder, in accordance with DSM guidelines| \n",
    "| Medical and Psychiatric History|mdh_|18|Categorical |Tracks medical and psychiatric history of 18 different Conditions| \n",
    "| Physical Exam|pex_|12|Categorical |Tracks the appearance and condition of patients for 12 different physical observations| \n",
    "| Timeline Follow Back Survey|survey_|70|Numeric |Surveys for self reported drug use, collected every 4 weeks, records total number of instances of drug use for the previous 30 days|\n",
    "| Dose Record |meds_|50|Numeric |Records the medication, averge weekly dose and week of treatment| \n"
   ]
  },
  {
   "cell_type": "code",
   "execution_count": 1,
   "metadata": {},
   "outputs": [
    {
     "data": {
      "text/html": [
       "<div>\n",
       "<style scoped>\n",
       "    .dataframe tbody tr th:only-of-type {\n",
       "        vertical-align: middle;\n",
       "    }\n",
       "\n",
       "    .dataframe tbody tr th {\n",
       "        vertical-align: top;\n",
       "    }\n",
       "\n",
       "    .dataframe thead th {\n",
       "        text-align: right;\n",
       "    }\n",
       "</style>\n",
       "<table border=\"1\" class=\"dataframe\">\n",
       "  <thead>\n",
       "    <tr style=\"text-align: right;\">\n",
       "      <th></th>\n",
       "      <th>Table Name</th>\n",
       "      <th>variable prefix</th>\n",
       "      <th>Type</th>\n",
       "      <th>Description</th>\n",
       "    </tr>\n",
       "  </thead>\n",
       "  <tbody>\n",
       "    <tr>\n",
       "      <th>0</th>\n",
       "      <td>Research Session Attendance</td>\n",
       "      <td>rsa_</td>\n",
       "      <td>Binary</td>\n",
       "      <td>Records attendence for each week of treatment</td>\n",
       "    </tr>\n",
       "    <tr>\n",
       "      <th>1</th>\n",
       "      <td>Demographics</td>\n",
       "      <td>dem_</td>\n",
       "      <td>Categorical</td>\n",
       "      <td>Sex, Ethnicity, Race</td>\n",
       "    </tr>\n",
       "    <tr>\n",
       "      <th>2</th>\n",
       "      <td>Urine Drug Screen</td>\n",
       "      <td>test_</td>\n",
       "      <td>Binary</td>\n",
       "      <td>Drug test for 8 different drug classes, taken ...</td>\n",
       "    </tr>\n",
       "    <tr>\n",
       "      <th>3</th>\n",
       "      <td>DSM-IV Diagnosis</td>\n",
       "      <td>dsm_</td>\n",
       "      <td>Categorical</td>\n",
       "      <td>Tracks clinical diagnosis for substance use di...</td>\n",
       "    </tr>\n",
       "    <tr>\n",
       "      <th>4</th>\n",
       "      <td>Medical and Psychiatric History</td>\n",
       "      <td>mdh_</td>\n",
       "      <td>Categorical</td>\n",
       "      <td>Tracks medical and psychiatric history of 18 d...</td>\n",
       "    </tr>\n",
       "    <tr>\n",
       "      <th>5</th>\n",
       "      <td>Physical Exam</td>\n",
       "      <td>pex_</td>\n",
       "      <td>Categorical</td>\n",
       "      <td>Tracks the appearance and condition of patient...</td>\n",
       "    </tr>\n",
       "    <tr>\n",
       "      <th>6</th>\n",
       "      <td>Timeline Follow Back Survey</td>\n",
       "      <td>survey_</td>\n",
       "      <td>Numeric</td>\n",
       "      <td>Surveys for self reported drug use, collected ...</td>\n",
       "    </tr>\n",
       "    <tr>\n",
       "      <th>7</th>\n",
       "      <td>Dose Record</td>\n",
       "      <td>meds_</td>\n",
       "      <td>Numeric</td>\n",
       "      <td>Records the medication, averge weekly dose and...</td>\n",
       "    </tr>\n",
       "  </tbody>\n",
       "</table>\n",
       "</div>"
      ],
      "text/plain": [
       "                        Table Name  variable prefix         Type   \\\n",
       "0       Research Session Attendance           rsa_         Binary   \n",
       "1                      Demographics           dem_    Categorical   \n",
       "2                 Urine Drug Screen           test_      Binary     \n",
       "3                  DSM-IV Diagnosis            dsm_  Categorical    \n",
       "4   Medical and Psychiatric History            mdh_  Categorical    \n",
       "5                     Physical Exam            pex_  Categorical    \n",
       "6       Timeline Follow Back Survey         survey_      Numeric    \n",
       "7                      Dose Record            meds_      Numeric    \n",
       "\n",
       "                                        Description   \n",
       "0     Records attendence for each week of treatment   \n",
       "1                              Sex, Ethnicity, Race   \n",
       "2  Drug test for 8 different drug classes, taken ...  \n",
       "3  Tracks clinical diagnosis for substance use di...  \n",
       "4  Tracks medical and psychiatric history of 18 d...  \n",
       "5  Tracks the appearance and condition of patient...  \n",
       "6  Surveys for self reported drug use, collected ...  \n",
       "7  Records the medication, averge weekly dose and...  "
      ]
     },
     "execution_count": 1,
     "metadata": {},
     "output_type": "execute_result"
    }
   ],
   "source": [
    "# convert markdown table to df\n",
    "import pandas as pd\n",
    "import sys\n",
    "\n",
    "def markdown_table_to_df(table):\n",
    "    rows = table.strip().split('\\n')\n",
    "    header = rows[0].split('|')[1:-1]\n",
    "    data = [row.split('|')[1:-1] for row in rows[2:]]\n",
    "    df = pd.DataFrame(data, columns=header)\n",
    "    return df\n",
    "\n",
    "table = \"\"\"| Table Name |variable prefix| Type |Description | \n",
    "| :--- | :--- | :--- | :--- |\n",
    "| Research Session Attendance|rsa_ |Binary|Records attendence for each week of treatment | \n",
    "| Demographics|dem_ |Categorical|Sex, Ethnicity, Race | \n",
    "| Urine Drug Screen| test_|Binary  |Drug test for 8 different drug classes, taken weekly for 24 weeks | \n",
    "| DSM-IV Diagnosis|dsm_|Categorical |Tracks clinical diagnosis for substance use disorder, in accordance with DSM guidelines| \n",
    "| Medical and Psychiatric History|mdh_|Categorical |Tracks medical and psychiatric history of 18 different Conditions| \n",
    "| Physical Exam|pex_|Categorical |Tracks the appearance and condition of patients for 12 different physical observations| \n",
    "| Timeline Follow Back Survey|survey_|Numeric |Surveys for self reported drug use, collected every 4 weeks, includes previous 30 days of use ot week 0, 4, 8, 12, 16, 20, 24| \n",
    "| Dose Record |meds_|Numeric |Records the medication, averge weekly dose and week of treatment| \n",
    "\"\"\"\n",
    "\n",
    "df = markdown_table_to_df(table)\n",
    "\n",
    "df"
   ]
  },
  {
   "cell_type": "markdown",
   "metadata": {},
   "source": [
    "### Import Required Libraries"
   ]
  },
  {
   "cell_type": "code",
   "execution_count": 2,
   "metadata": {},
   "outputs": [
    {
     "data": {
      "text/plain": [
       "(1917, 424)"
      ]
     },
     "execution_count": 2,
     "metadata": {},
     "output_type": "execute_result"
    }
   ],
   "source": [
    "import pandas as pd # data manipulation\n",
    "import numpy as np # numerical computation\n",
    "import matplotlib.pyplot as plt # visualization\n",
    "import seaborn as sns # enhanced visualization\n",
    "import warnings # ignore warnings\n",
    "import helper # custom data transformation functions\n",
    "from IPython.display import display, Markdown # display and markdown conversion\n",
    "import re # regular expressions\n",
    "warnings.filterwarnings('ignore') # ignore warnings\n",
    "\n",
    "# Load the data\n",
    "data = pd.read_csv('../data/merged_data.csv')\n",
    "\n",
    "# Display the first few rows of the data\n",
    "data.shape"
   ]
  },
  {
   "cell_type": "markdown",
   "metadata": {},
   "source": [
    "### Review RSA: Research Session Attendence\n",
    "Research Session Attendance: RSA<br>\n",
    "Records attendence for 24 weeks of treatment. <br>\n",
    "Recorded each week<br>\n",
    "\n",
    "Descriptive statistics for each week of attendence:<br>\n",
    "- Avg weekly attendance 851 patients per week\n",
    "- Avg proportion of patients attending weekly 44%\n",
    "<br>\n",
    "\n",
    "\n",
    "<br>\n",
    "We will plot the weekly distribution of percentage of patients attending treatment"
   ]
  },
  {
   "cell_type": "code",
   "execution_count": null,
   "metadata": {},
   "outputs": [],
   "source": [
    "# create df for rsa clinical data\n",
    "rsa = helper.series_func(data, 'rsa', 'mean')\n",
    "\n",
    "# set params to plot the data series\n",
    "series, title, ylabel, xlabel = rsa, 'Weekly Attendance', 'Attendance', 'Week of Treatment'\n",
    "\n",
    "# call helper function to plot the data series\n",
    "helper.plot_func(series, title, ylabel, xlabel)\n",
    "# create bespoke annotation for this table\n",
    "plt.annotate(\n",
    "        f\"Weekly average {series.mean().round(2)}% attendance\",\n",
    "        xy=(0.5, 0.5),\n",
    "        xycoords=\"axes fraction\",\n",
    "        ha=\"center\",\n",
    "        va=\"center\",\n",
    "        fontsize=12,\n",
    "        color=\"black\",\n",
    "    );"
   ]
  },
  {
   "cell_type": "code",
   "execution_count": null,
   "metadata": {},
   "outputs": [],
   "source": [
    "from scipy.stats import bernoulli\n",
    "# create bernoulli distribtution for rsa\n",
    "\n",
    "# define probability of success\n",
    "p = series.mean()\n",
    "\n",
    "# calculate pmp values for outcomes 0 and 1\n",
    "pmf_values = bernoulli.pmf([0, 1], p)\n",
    "\n",
    "# create a figure and axis\n",
    "plt.bar([0, 1], pmf_values, tick_label=['Absent', 'Present'])\n",
    "plt.title('Bernoulli Distribution for RSA Attendance')\n",
    "plt.xlabel('Outcome')\n",
    "plt.ylabel('Probability')\n",
    "plt.show()"
   ]
  },
  {
   "cell_type": "markdown",
   "metadata": {},
   "source": [
    "### Review Demographic Data\n",
    "Demographics: DEM<br>\n",
    "Data includes response to questions about gender, race and ethnicity<br>\n",
    "Data includes 12 different responses<br>\n",
    "Data collected at baseline assessment<br>\n",
    "\n",
    "<br>\n",
    "\n",
    "|    | column                    | value              |   count |   percentage |\n",
    "|---:|:--------------------------|:-------------------|--------:|-------------:|\n",
    "|  0 | dem_gender                | male               |    1283 |         0.67 |\n",
    "|  1 | dem_gender                | female             |     631 |         0.33 |\n",
    "|  3 | dem_ethnicity             | not_spanish_origin |    1579 |         0.82 |\n",
    "|  4 | dem_ethnicity             | spanish_origin     |     328 |         0.17 |\n",
    "|  7 | dem_race_no_answer        | 1.0                |       5 |         0    |\n",
    "|  9 | dem_race_unknown          | 1.0                |       8 |         0    |\n",
    "| 11 | dem_race_amer_ind         | 1.0                |      85 |         0.04 |\n",
    "| 13 | dem_race_asian            | 1.0                |      29 |         0.02 |\n",
    "| 15 | dem_race_black            | 1.0                |     233 |         0.12 |\n",
    "| 17 | dem_race_pacific_islander | 1.0                |      12 |         0.01 |\n",
    "| 18 | dem_race_white            | 1.0                |    1379 |         0.72 |\n",
    "| 21 | dem_race_other            | 1.0                |     284 |         0.15 |"
   ]
  },
  {
   "cell_type": "code",
   "execution_count": null,
   "metadata": {},
   "outputs": [],
   "source": [
    "# This code creates an efficient table to view value_counts of the demographics data\n",
    "\n",
    "# create the demographics dataframe\n",
    "dem = data[[col for col in data.columns if col.startswith('dem_')]]\n",
    "\n",
    "# call the helper function to extract the value counts and organize them into a table\n",
    "result_df = helper.df_value_counts(dem)\n",
    "\n",
    "# remove index row 2, 5 - these have mostly missing values and not useful for analysis\n",
    "result_df = result_df.drop(result_df.index[[2,5]])\n",
    "\n",
    "# remove values with 0.0 - these are the negative binary response, not useful for analysis\n",
    "result_df = result_df[result_df['value'] != 0.0]\n",
    "\n",
    "# display the table in markdown\n",
    "display(Markdown(result_df.to_markdown()))\n"
   ]
  },
  {
   "cell_type": "code",
   "execution_count": null,
   "metadata": {},
   "outputs": [],
   "source": [
    "# separate the data into two groups based on the value\n",
    "groups = ['gender', 'ethnicity','race']\n",
    "for dem in groups:\n",
    "    # create dataframe for each group, for rows that have dem in column\n",
    "    globals()[dem] = result_df[result_df['column'].str.contains(dem)]\n",
    "    # sort values by count in descending order\n",
    "    globals()[dem] = globals()[dem].sort_values(by='count', ascending=False)\n",
    "    # convert to markdown\n",
    "    print(dem)\n",
    "    display(Markdown(globals()[dem].to_markdown()))\n",
    "    "
   ]
  },
  {
   "cell_type": "markdown",
   "metadata": {},
   "source": [
    "### Visualize Demographic Data"
   ]
  },
  {
   "cell_type": "markdown",
   "metadata": {},
   "source": [
    "### Review UDS Data\n",
    "Urine Drug Screen: UDS<br>\n",
    "Drug test for 8 different drug classes, taken weekly for 24 weeks<br>\n",
    "<br>\n",
    "\n",
    "### Key Descriptive Stats\n",
    "**Mean % positive test rate for each drug class per week**<br>\n",
    "|       |   pro |   amp |   can |   ben |   mme |   oxy |   coc |   met |   opi |\n",
    "|:------|------:|------:|------:|------:|------:|------:|------:|------:|------:|\n",
    "| count | 25    | 25    | 25    | 25    | 25    | 25    | 25    | 25    | 25    |\n",
    "| mean  |  0.53 |  0.55 |  0.63 |  0.59 |  0.74 |  0.55 |  0.67 |  0.56 |  0.71 |\n",
    "| std   |  0.12 |  0.11 |  0.09 |  0.1  |  0.11 |  0.1  |  0.07 |  0.11 |  0.04 |\n",
    "| min   |  0.04 |  0.1  |  0.25 |  0.21 |  0.26 |  0.15 |  0.4  |  0.12 |  0.65 |\n",
    "| 25%   |  0.52 |  0.54 |  0.62 |  0.58 |  0.74 |  0.53 |  0.66 |  0.55 |  0.69 |\n",
    "| 50%   |  0.56 |  0.58 |  0.66 |  0.62 |  0.77 |  0.58 |  0.68 |  0.59 |  0.71 |\n",
    "| 75%   |  0.6  |  0.62 |  0.68 |  0.65 |  0.79 |  0.61 |  0.71 |  0.62 |  0.72 |\n",
    "| max   |  0.64 |  0.65 |  0.72 |  0.69 |  0.82 |  0.65 |  0.73 |  0.66 |  0.85 |\n",
    "\n",
    "**Mean count of positive tests for each drug class per week**<br>\n",
    "|       |     pro |     amp |     can |     ben |     mme |     oxy |     coc |     met |     opi |\n",
    "|:------|--------:|--------:|--------:|--------:|--------:|--------:|--------:|--------:|--------:|\n",
    "| count |   25    |   25    |   25    |   25    |   25    |   25    |   25    |   25    |   25    |\n",
    "| mean  | 1020.64 | 1061.4  | 1213.2  | 1138.48 | 1428.56 | 1052.52 | 1280.08 | 1073.6  | 1357.8  |\n",
    "| std   |  231.7  |  216.64 |  180.57 |  192.47 |  214.07 |  199.41 |  135.54 |  212.59 |   77.19 |\n",
    "| min   |   83    |  190    |  480    |  403    |  491    |  282    |  762    |  223    | 1238    |\n",
    "| 25%   |  996    | 1039    | 1193    | 1107    | 1424    | 1023    | 1257    | 1050    | 1314    |\n",
    "| 50%   | 1080    | 1115    | 1262    | 1192    | 1483    | 1105    | 1309    | 1124    | 1360    |\n",
    "| 75%   | 1147    | 1182    | 1306    | 1254    | 1521    | 1166    | 1361    | 1188    | 1380    |\n",
    "| max   | 1223    | 1254    | 1371    | 1315    | 1576    | 1239    | 1407    | 1267    | 1638    |\n",
    "\n",
    "### Data Visualization\n",
    "This data is very complex, where we will have to pre-process the data<br>\n",
    "to get meaningful visualizations.<br>\n",
    "<br>\n",
    "We will take the following steps to visual patient test data during treatment.\n",
    "1. Create a test dataframe: Will contain 227 columns, representing 9 drug tests<br>\n",
    "taken every week for 24 weeks.\n",
    "2. Extract relevant text fields from the dataset for plotting\n",
    "3. Create a plot dataframe that has a series with the % test rate for each drug<br>\n",
    "4. Creat a workflow to automate plot rendering for 9 drug tests\n",
    "5. Plot will be annotated with key insights to help the user learn them immediately<br>\n",
    "\n",
    "\n"
   ]
  },
  {
   "cell_type": "code",
   "execution_count": null,
   "metadata": {},
   "outputs": [],
   "source": [
    "test_df, drug_dict = helper.agg_weekly_data(data, group='test_', agg='mean')"
   ]
  },
  {
   "cell_type": "markdown",
   "metadata": {},
   "source": [
    "### Create a Markdown Table with Descriptive Statistics\n",
    "- We will cover both the positive test rate and count of positive tests<br>"
   ]
  },
  {
   "cell_type": "code",
   "execution_count": null,
   "metadata": {},
   "outputs": [],
   "source": [
    "# create descriptive stats for drug tests\n",
    "drug_tests_pos_count = test_df.describe().round(2)\n",
    "\n",
    "# convert to markdown for portability\n",
    "drug_tests_pos_count.to_markdown()\n",
    "\n",
    "# display markdown table through ipython display\n",
    "display(Markdown(drug_tests_pos_count.to_markdown()))"
   ]
  },
  {
   "cell_type": "markdown",
   "metadata": {},
   "source": [
    "### Review DSM Data\n",
    "DSM provides the guidlines for diagnosing mental illness.<br>\n",
    "DSM diagnosis is collected at baseline assesment<br>\n",
    "The patient can have 3 different values for diagnosis for 6 drug classes:<br>\n",
    "- Abuse\n",
    "- Dependence\n",
    "- No Diagnosis\n",
    "\n",
    "<br>\n",
    "The tables will be grouped by diagnosis to produce insights to the reader immediately<br>\n",
    "<br>\n",
    "\n",
    "**Abuse**\n",
    "|    | column          | value   |   count |   percentage |\n",
    "|---:|:----------------|:--------|--------:|-------------:|\n",
    "| 21 | dsm_alcohol     | abuse   |     262 |         0.14 |\n",
    "|  2 | dsm_cannabis    | abuse   |     218 |         0.11 |\n",
    "|  8 | dsm_cocaine     | abuse   |     185 |         0.1  |\n",
    "| 12 | dsm_sedative    | abuse   |     123 |         0.06 |\n",
    "| 26 | dsm_amphetamine | abuse   |     109 |         0.06 |\n",
    "| 18 | dsm_opiates     | abuse   |       1 |         0    |\n",
    "\n",
    "**Dependence**\n",
    "|    | column          | value      |   count |   percentage |\n",
    "|---:|:----------------|:-----------|--------:|-------------:|\n",
    "| 15 | dsm_opiates     | dependence |    1486 |         0.78 |\n",
    "|  7 | dsm_cocaine     | dependence |     305 |         0.16 |\n",
    "| 22 | dsm_alcohol     | dependence |     102 |         0.05 |\n",
    "| 13 | dsm_sedative    | dependence |      90 |         0.05 |\n",
    "|  3 | dsm_cannabis    | dependence |      73 |         0.04 |\n",
    "| 27 | dsm_amphetamine | dependence |      67 |         0.03 |\n",
    "\n",
    "**No Diagnosis**\n",
    " |    | column          | value        |   count |   percentage |\n",
    "|---:|:----------------|:-------------|--------:|-------------:|\n",
    "| 24 | dsm_amphetamine | no_diagnosis |    1311 |         0.68 |\n",
    "| 10 | dsm_sedative    | no_diagnosis |    1274 |         0.66 |\n",
    "|  0 | dsm_cannabis    | no_diagnosis |    1196 |         0.62 |\n",
    "| 19 | dsm_alcohol     | no_diagnosis |    1123 |         0.59 |\n",
    "|  5 | dsm_cocaine     | no_diagnosis |     997 |         0.52 |"
   ]
  },
  {
   "cell_type": "code",
   "execution_count": null,
   "metadata": {},
   "outputs": [],
   "source": [
    "# This is the code that creates the markdown table above\n",
    "\n",
    "# get the columns for the dsm data\n",
    "dsm = data[[col for col in data.columns if col.startswith('dsm_')]]\n",
    "\n",
    "# call helper function to extract the value counts and organize them into a table\n",
    "dsm_vc = helper.df_value_counts(dsm)\n",
    "\n",
    "# convert to markdown\n",
    "dsm_vc.to_markdown()\n",
    "\n",
    "# display markdown table through ipython display\n",
    "display(Markdown(dsm_vc.to_markdown()))\n"
   ]
  },
  {
   "cell_type": "code",
   "execution_count": null,
   "metadata": {},
   "outputs": [],
   "source": [
    "# reogroup the data into three tables to make it easier to read\n",
    "\n",
    "# create list of group, each group will be a separate table\n",
    "diagnosis = ['abuse', 'dependence', 'no_diagnosis']\n",
    "\n",
    "# iterate through each diagnosis\n",
    "for disorder in diagnosis:\n",
    "    # create a dataframe for each disorder\n",
    "    globals()[disorder] = dsm_vc[dsm_vc['value']==disorder]\n",
    "    # sort values by count in descending order\n",
    "    globals()[disorder] = globals()[disorder].sort_values(by='count', ascending=False)\n",
    "    # convert to markdown\n",
    "    globals()[disorder].to_markdown()\n",
    "    # print the disorder before the ipython display\n",
    "    print(disorder)\n",
    "    display(Markdown(globals()[disorder].to_markdown()))\n",
    "    "
   ]
  },
  {
   "cell_type": "markdown",
   "metadata": {},
   "source": [
    "### Review MDH: Medical and Psychiatric History Data\n",
    "Medical and Psychiatric History: MDH<br>\n",
    "Tracks medical and psychiatric history of 18 different Conditions<br>\n",
    "With 3 possible responses for each condition:<br>\n",
    "<br>\n",
    "\n",
    "### Descriptive Statistics\n",
    "There are 54 features to evaluate.<br>\n",
    "Please contiue to scroll to review statistics for each patient history group<br>"
   ]
  },
  {
   "cell_type": "code",
   "execution_count": null,
   "metadata": {},
   "outputs": [],
   "source": [
    "# create a new dataframe for the mdh data\n",
    "mdh = data[[col for col in data.columns if col.startswith('mdh_')]]\n",
    "\n",
    "# call helper function to extract the value counts and organize them into a table\n",
    "mdh_vc = helper.df_value_counts(mdh)\n",
    "\n",
    "# convert to markdown\n",
    "mdh_vc.to_markdown()\n",
    "\n",
    "print('mdh dataset shape:',mdh_vc.shape)\n",
    "display(Markdown(mdh_vc.to_markdown()))"
   ]
  },
  {
   "cell_type": "markdown",
   "metadata": {},
   "source": [
    "### Improve Readability\n",
    "We will improve readability by breaking the data into 3 tables<br>\n",
    "1. Patient Has History of Condition\n",
    "2. Patient Does Not Have History of Condition\n",
    "3. Patient Was Not Evaluated"
   ]
  },
  {
   "cell_type": "code",
   "execution_count": null,
   "metadata": {},
   "outputs": [],
   "source": [
    "# create list of group, each group will be a separate table\n",
    "patient_history = ['yes_history', 'no_history', 'not_evaluated']\n",
    "\n",
    "# iterate through each medical history group\n",
    "for history in patient_history:\n",
    "    # create a dataframe for each history group\n",
    "    globals()[history] = mdh_vc[mdh_vc['value']==history]\n",
    "    # convert to markdown\n",
    "    globals()[history].to_markdown()\n",
    "    # print the history group before the ipython display\n",
    "    print(history)\n",
    "    display(Markdown(globals()[history].to_markdown()))\n"
   ]
  },
  {
   "cell_type": "markdown",
   "metadata": {},
   "source": [
    "### Create Visualization\n",
    "Use the column (feature) name as x, with either count or percent as y<br>\n",
    "Visualize the 3 different values as hue in a bar plot<br>"
   ]
  },
  {
   "cell_type": "code",
   "execution_count": null,
   "metadata": {},
   "outputs": [],
   "source": [
    "# filter df to remove not_evaluated group, as there is no variability in the data\n",
    "filtered_df = mdh_vc[mdh_vc['value'].isin(['yes_history', 'no_history'])]\n",
    "\n",
    "# visualize mdh_vc table\n",
    "plt.figure(figsize=(14, 4))\n",
    "sns.barplot(x='column', y='percentage', data=filtered_df, hue='value', palette='viridis')\n",
    "plt.xticks(rotation=45, ha='right');\n",
    "# move legend outside of plot\n",
    "plt.legend(loc='upper left', bbox_to_anchor=(1,1), title='Value')\n",
    "plt.ylabel('Count of Patients by Group History')\n",
    "plt.xlabel('Medical History');"
   ]
  },
  {
   "cell_type": "markdown",
   "metadata": {},
   "source": [
    "### Review PEX: Physical Exam Data\n",
    "Physical Exam: PEX<br>\n",
    "Tracks the appearance and condition of patients for 12 different physical observations<br>\n",
    "<br>\n"
   ]
  },
  {
   "cell_type": "code",
   "execution_count": null,
   "metadata": {},
   "outputs": [],
   "source": [
    "# create pex table with value counts\n",
    "\n",
    "# create df for pex data\n",
    "pex = data[[col for col in data.columns if col.startswith('pex_')]]\n",
    "\n",
    "# call helper function to extract the value counts and organize them into a table\n",
    "pex_vc = helper.df_value_counts(pex)\n",
    "\n",
    "pex_vc\n"
   ]
  },
  {
   "cell_type": "code",
   "execution_count": null,
   "metadata": {},
   "outputs": [],
   "source": [
    "\n",
    "# create groups for evaluation status\n",
    "evaluation = ['abnormal', 'normal', 'not_evaluated']\n",
    "\n",
    "# iterate through each evaluation group\n",
    "for status in evaluation:\n",
    "    # create a dataframe for each evaluation group\n",
    "    globals()[status] = pex_vc[pex_vc['value']==status]\n",
    "    # convert to markdown\n",
    "    globals()[status].to_markdown()\n",
    "    # print the evaluation group before the ipython display\n",
    "    print(status)\n",
    "    display(Markdown(globals()[status].to_markdown()))\n"
   ]
  },
  {
   "cell_type": "code",
   "execution_count": null,
   "metadata": {},
   "outputs": [],
   "source": [
    "# visualize the pex_vc table\n",
    "plt.figure(figsize=(14, 4))\n",
    "sns.barplot(x='column', y='percentage', data=pex_vc, hue='value', palette='viridis')\n",
    "plt.xticks(rotation=45, ha='right');\n",
    "# move legend outside of plot\n",
    "plt.legend(loc='upper left', bbox_to_anchor=(1,1), title='Value')\n",
    "plt.ylabel('Count of Patients by Evaluation Status')\n",
    "plt.xlabel('Physical Examination Status');\n"
   ]
  },
  {
   "cell_type": "code",
   "execution_count": null,
   "metadata": {},
   "outputs": [],
   "source": [
    "df, dict = helper.agg_weekly_data(data, group='survey_', agg='sum')"
   ]
  },
  {
   "cell_type": "markdown",
   "metadata": {},
   "source": [
    "### clean the dose record\n",
    "Dose Record: DOS<br>\n",
    "Records the medication, averge weekly dose and week of treatment<br>\n",
    "<br>\n"
   ]
  },
  {
   "cell_type": "code",
   "execution_count": null,
   "metadata": {},
   "outputs": [],
   "source": [
    "# create df for medication does\n",
    "meds = data[[col for col in data.columns if col.startswith('meds_')]]\n",
    "\n",
    "bupe = meds[[col for col in meds.columns if 'buprenorphine' in col]]\n",
    "\n",
    "meth = meds[[col for col in meds.columns if 'methadone' in col]]\n",
    "\n",
    "# Correct approach to modify column names\n",
    "bupe.columns = [col.split('_')[-1] for col in bupe.columns]\n",
    "meth.columns = [col.split('_')[-1] for col in meth.columns]\n",
    "\n",
    "# create series and merge for plotting\n",
    "bupe = bupe.mean().round(2).to_frame('buprenorphine')\n",
    "meth = meth.mean().round(2).to_frame('methadone')\n",
    "\n",
    "# merge\n",
    "meds = pd.concat([bupe, meth], axis=1)\n",
    "\n",
    "\n",
    "\n",
    "meds\n",
    "\n",
    "\n"
   ]
  },
  {
   "cell_type": "code",
   "execution_count": null,
   "metadata": {},
   "outputs": [],
   "source": [
    "meds.buprenorphine.ndim"
   ]
  },
  {
   "cell_type": "code",
   "execution_count": null,
   "metadata": {},
   "outputs": [],
   "source": [
    "# set plot params\n",
    "med_options = ['methadone', 'buprenorphine']\n",
    "for i,med in enumerate(med_options):\n",
    "    # create separate bar plot for each med\n",
    "    plt.figure(figsize=(14, 4))\n",
    "    sns.barplot(x=meds.index, y=meds[med], palette='viridis')\n",
    "    plt.ylabel('Percentage of Patients')\n",
    "    plt.xlabel('Week of Treatment')\n",
    "    plt.title(f'{med.capitalize()} Usage by Week')\n",
    "    plt.axhline(y=meds[med].mean(), color='black', linestyle='--', label=f'Average {med.capitalize()} Usage')\n",
    "    plt.annotate(\n",
    "        f\"Average {med.capitalize()} dose per week: {meds[med].mean().round(2)}\",\n",
    "        xy=(0.5, 0.5),\n",
    "        xycoords=\"axes fraction\",\n",
    "        ha=\"center\",\n",
    "        va=\"center\",\n",
    "        fontsize=12,\n",
    "        color=\"black\",\n",
    "        backgroundcolor='white'\n",
    "    );\n",
    "\n"
   ]
  }
 ],
 "metadata": {
  "kernelspec": {
   "display_name": "dev",
   "language": "python",
   "name": "python3"
  },
  "language_info": {
   "codemirror_mode": {
    "name": "ipython",
    "version": 3
   },
   "file_extension": ".py",
   "mimetype": "text/x-python",
   "name": "python",
   "nbconvert_exporter": "python",
   "pygments_lexer": "ipython3",
   "version": "3.11.8"
  }
 },
 "nbformat": 4,
 "nbformat_minor": 2
}
