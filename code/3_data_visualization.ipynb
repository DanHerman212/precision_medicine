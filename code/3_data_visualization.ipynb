{
 "cells": [
  {
   "cell_type": "markdown",
   "metadata": {},
   "source": [
    "### This notebook will serve as a sandbox for bespoke visualizations for the project"
   ]
  },
  {
   "cell_type": "code",
   "execution_count": 1,
   "metadata": {},
   "outputs": [
    {
     "data": {
      "text/plain": [
       "(1321, 420)"
      ]
     },
     "execution_count": 1,
     "metadata": {},
     "output_type": "execute_result"
    }
   ],
   "source": [
    "# import required libraries\n",
    "import pandas as pd\n",
    "import numpy as np\n",
    "import matplotlib.pyplot as plt\n",
    "import seaborn as sns\n",
    "import helper \n",
    "import warnings\n",
    "warnings.filterwarnings('ignore')\n",
    "\n",
    "# load the data\n",
    "data = pd.read_csv('../data/merged_data.csv')\n",
    "\n",
    "data.shape"
   ]
  },
  {
   "cell_type": "code",
   "execution_count": 4,
   "metadata": {},
   "outputs": [
    {
     "data": {
      "text/plain": [
       "<AxesSubplot:xlabel='weeks_attended'>"
      ]
     },
     "execution_count": 4,
     "metadata": {},
     "output_type": "execute_result"
    },
    {
     "data": {
      "image/png": "[encoded data removed]",
      "text/plain": [
       "<Figure size 640x480 with 1 Axes>"
      ]
     },
     "metadata": {},
     "output_type": "display_data"
    }
   ],
   "source": [
    "data.weeks_attended.value_counts().plot(kind='bar', color='skyblue')"
   ]
  },
  {
   "cell_type": "markdown",
   "metadata": {},
   "source": [
    "### Build a Dataframe with Time Series for Plotting\n",
    "- We will create a multi-layered plot that shows insight on patient population treatment response\n",
    "- To create a multi-layered plot, we will create 3 different series, representing:\n",
    "    - Total Positive Test Rates for Patient Population\n",
    "    - Total Negative Test Rates for Methadone Patient Group\n",
    "    - Total Negative Test Rates for Buprenorphine Patient Group\n",
    "<br><br>\n",
    "We will create a bar plot for the total positive test rates and line plots for the negative test rates for each patient group<br>"
   ]
  },
  {
   "cell_type": "code",
   "execution_count": null,
   "metadata": {},
   "outputs": [],
   "source": [
    "# create the test dataframe, use list comprehension to call all columns that start with 'test_Opiate300'\n",
    "# then add the medication column at the end to filter the data\n",
    "tests = data[[col for col in data.columns if col.startswith('test_Opiate300')]+['medication']]\n",
    "\n",
    "# remove the column names to create a test matrix with numbers for columns\n",
    "tests.columns = tests.columns.str.replace('test_Opiate300_', '')\n",
    "\n",
    "# there is a value -5 which indicates test results unclear\n",
    "# count how many times -5 occurs in tests and compare to dataset\n",
    "tests[tests == -5].count().sum()/tests.size\n",
    "\n",
    "# the total accounts for .005 of the data, so we can update these to 0\n",
    "# better not to skew the positive test data as the % of -5 is so low\n",
    "for col in tests.columns:\n",
    "    tests[col] = tests[col].replace(-5, 0)\n",
    "\n",
    "# create methadone test group\n",
    "methadone = tests[tests['medication'] == 1.0]\n",
    "\n",
    "# slice off the final column, aggregate cols with sum \n",
    "# transform to dataframe and rename column to patient group\n",
    "methadone = methadone.iloc[:, :-1].sum().to_frame('methadone_group')\n",
    "\n",
    "# create buprenorphine test group\n",
    "buprenorphine = tests[tests['medication'] == 2.0]\n",
    "\n",
    "# slice off the final column, aggregate cols with sum \n",
    "# transform to series and rename column to patient group\n",
    "buprenorphine = buprenorphine.iloc[:, :-1].sum().to_frame('buprenorphine_group')\n",
    "\n",
    "# merge series\n",
    "test_results = pd.concat([methadone, buprenorphine], axis=1)\n",
    "\n",
    "# create total column, sum of both test groups\n",
    "test_results['total'] = (test_results['methadone_group'] + test_results['buprenorphine_group'])\n",
    "\n",
    "test_results"
   ]
  },
  {
   "cell_type": "code",
   "execution_count": null,
   "metadata": {},
   "outputs": [],
   "source": [
    "# Adjusted code to ensure colors show up in the legend\n",
    "\n",
    "# set figure size and axis\n",
    "fig, ax = plt.subplots(figsize=(14, 4))\n",
    "# plot count of total tests between patient groups as barplot\n",
    "sns.barplot(x=test_results.index, y=test_results.total, color='darkgray', ax=ax)\n",
    "\n",
    "# Use ax.plot for consistency with seaborn's ax\n",
    "# layer in line plots for methadone and buprenorphine patient groups\n",
    "ax.plot(np.array(methadone.index), np.array(methadone.methadone_group), marker='_', color='blue', linewidth=2.5, label='Methadone')\n",
    "ax.plot(np.array(buprenorphine.index), np.array(buprenorphine.buprenorphine_group), marker='_', color='red', linewidth=2.5, label='Buprenorphine')\n",
    "\n",
    "# Create legend to the right, outside of the plot, using ax.legend for consistency\n",
    "ax.legend(loc='upper right')\n",
    "\n",
    "# Set the title and labels\n",
    "ax.set_title('Number of Positive Opiate Tests by Treatment Group')\n",
    "ax.set_xlabel('Week of Treatment')\n",
    "ax.set_ylabel('Number of Positive Opiate Tests');"
   ]
  }
 ],
 "metadata": {
  "kernelspec": {
   "display_name": "dev",
   "language": "python",
   "name": "python3"
  },
  "language_info": {
   "codemirror_mode": {
    "name": "ipython",
    "version": 3
   },
   "file_extension": ".py",
   "mimetype": "text/x-python",
   "name": "python",
   "nbconvert_exporter": "python",
   "pygments_lexer": "ipython3",
   "version": "3.11.8"
  }
 },
 "nbformat": 4,
 "nbformat_minor": 2
}
